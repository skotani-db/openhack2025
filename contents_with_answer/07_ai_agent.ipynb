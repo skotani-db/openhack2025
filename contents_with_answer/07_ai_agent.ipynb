{
 "cells": [
  {
   "cell_type": "markdown",
   "metadata": {
    "application/vnd.databricks.v1+cell": {
     "cellMetadata": {},
     "inputWidgets": {},
     "nuid": "4a778e11-e2e1-487b-984f-e246da07203d",
     "showTitle": false,
     "tableResultSettingsMap": {},
     "title": ""
    }
   },
   "source": [
    "# 起票されたケースの解決策を示すAgentを作成する(標準時間:60分)"
   ]
  },
  {
   "cell_type": "markdown",
   "metadata": {
    "application/vnd.databricks.v1+cell": {
     "cellMetadata": {},
     "inputWidgets": {},
     "nuid": "6f38e73d-4d17-4e6b-90c3-e71414f0912b",
     "showTitle": false,
     "tableResultSettingsMap": {},
     "title": ""
    }
   },
   "source": [
    "## 本ノートブックの目的：Databricks における AI Agent \n",
    "Q1. RAG Agent の構築<br>\n",
    "Q2. Driver Notebookの実行とReview Apps による評価<br>\n",
    "Q3. Databricks Apps との連携"
   ]
  },
  {
   "cell_type": "markdown",
   "metadata": {
    "application/vnd.databricks.v1+cell": {
     "cellMetadata": {},
     "inputWidgets": {},
     "nuid": "bb997456-de21-4a99-afa3-be0ddec1cf0e",
     "showTitle": false,
     "tableResultSettingsMap": {},
     "title": ""
    }
   },
   "source": [
    "## Q1. RAG Agent の構築(標準時間：10分)"
   ]
  },
  {
   "cell_type": "markdown",
   "metadata": {
    "application/vnd.databricks.v1+cell": {
     "cellMetadata": {},
     "inputWidgets": {},
     "nuid": "07156689-dc7b-40bc-ab99-e044e2643b23",
     "showTitle": false,
     "tableResultSettingsMap": {},
     "title": ""
    }
   },
   "source": [
    "Databricks の AI Playground を使用して、`openhack-gpt-4o` エンドポイントと `manual_retriever` ツールを登録し、ringo computer のマニュアルに関する質問に答えるエージェントを作成する手順は以下の通りです:\n",
    "\n",
    "1. Databricks ワークスペースにログインし、左側のナビゲーションから [Machine Learning] > [Playground] を選択します。\n",
    "\n",
    "2. AI Playground の画面で、左上のドロップダウンメニューから `openhack-gpt-4o` エンドポイントを選択します。\n",
    "![](/Workspace/Users/shotaro.kotani@nssoldlp.onmicrosoft.com/openhack2025/contents_with_answer/dev_shotkotani/data/img/endpoint_selection.png)\n",
    "3. [ツール] セクションを探し、`manual_retriever` ツールを選択します。このツールが表示されない場合は、カスタムツールとして追加する必要があります。\n",
    "![](/Workspace/Users/shotaro.kotani@nssoldlp.onmicrosoft.com/openhack2025/contents_with_answer/dev_shotkotani/data/img/tool_selection.png)\n",
    "\n",
    "4. システムプロンプトを設定します。例えば:\n",
    "   \"あなたは ringo computer のマニュアルに関する質問に答えるエキスパートです。manual_retriever ツールを使用して、適切な情報を取得し、ユーザーの質問に答えてください。\"\n",
    "   ![](/Workspace/Users/shotaro.kotani@nssoldlp.onmicrosoft.com/openhack2025/contents_with_answer/dev_shotkotani/data/img/export_notebook.png)\n",
    "\n",
    "5. チャットインターフェースを使用して、エージェントとの対話をテストします。以下のようなサンプル質問を試してみましょう:\n",
    "   - \"ringo computer の電源の入れ方を教えてください。\"\n",
    "   - \"ringo computer のメモリを増設する方法は？\"\n",
    "   - \"ringo computer のOSをアップデートする手順を説明してください。\"\n",
    "\n",
    "6. エージェントの応答を確認し、必要に応じてシステムプロンプトや設定を調整します。\n",
    "\n",
    "7. エージェントの動作に満足したら、画面右上の [エクスポート] ボタンをクリックします。\n",
    "\n",
    "8. エクスポートされたノートブックには以下のファイルが含まれます:\n",
    "   - `agent` ノートブック: LangChain を使用してエージェントを定義する Python コード\n",
    "   - `driver` ノートブック: エージェントのログ記録、トレース、登録、デプロイ用のコード\n",
    "   - `config.yml`: エージェントの設定情報\n",
    "\n",
    "9. エクスポートされたノートブックを開き、コードを確認します。必要に応じて調整を行います。\n",
    "\n",
    "10. `driver` ノートブックを実行して、エージェントをモデルサービングエンドポイントにデプロイします。\n",
    "\n"
   ]
  },
  {
   "cell_type": "markdown",
   "metadata": {
    "application/vnd.databricks.v1+cell": {
     "cellMetadata": {},
     "inputWidgets": {},
     "nuid": "effbaf4b-0670-4290-8eb1-5a66613dbd71",
     "showTitle": false,
     "tableResultSettingsMap": {},
     "title": ""
    }
   },
   "source": [
    "## Q2. Driver Notebookの実行とReview Apps による評価(標準時間：10分)\n",
    "AI Playgroundで作成されたdriver notebookは、エージェントのログ記録、評価、登録、およびデプロイを行うための重要なコンポーネントです。\n",
    "\n",
    "### `driver` ノートブックの流れ\n",
    "- Mosaic AIエージェントフレームワークを使用してPythonエージェントの処理を行います\n",
    "- エージェントをMLflowにログ記録します\n",
    "- エージェントをUnity Catalogに登録します\n",
    "- エージェントをモデルサービングエンドポイントにデプロイします\n",
    "- エージェントを評価するReview Appをデプロイして、ステークホルダーに配布できます\n",
    "\n",
    "### メリット\n",
    "- 自動生成されるため、開発時間を短縮できます\n",
    "- エージェントのライフサイクル管理を一元化し、効率的に行えます\n",
    "- MLflowとの統合により、実験管理や再現性の確保が容易になります\n",
    "- Unity Catalogへの登録により、エージェントの共有と再利用が促進されます\n",
    "- モデルサービングエンドポイントへのデプロイにより、本番環境での利用が簡単になります\n",
    "\n",
    "### 注意\n",
    "エクスポートされたコードは AI Playground セッションとは異なる動作をする可能性があります。<br>\n",
    "1. `driver` ノートブックのセル3でインストールするlanggraphのバージョンを以下のように固定してください\n",
    "```langgraph==0.2.74```\n",
    "\n",
    "2. セル11においてlanggraphバージョンを固定してください。\n",
    "```\n",
    "pip_requirements=[\n",
    "            \"mlflow\",\n",
    "            \"langchain\",\n",
    "            \"langgraph==0.2.74\",\n",
    "            \"databricks-langchain\",\n",
    "            \"unitycatalog-langchain[databricks]\",\n",
    "            \"pydantic\",\n",
    "        ]\n",
    "```\n",
    "\n",
    "3. セル11において、mlflowのモデルが権限を持つ必要があるリソースを指定する必要があります。`mlflow.models.resources`のモジュールからエンドポイントとベクトルサーチインデックスを指定します。\n",
    "```\n",
    "from mlflow.models.resources import DatabricksFunction, DatabricksServingEndpoint, DatabricksVectorSearchIndex\n",
    "```\n",
    "4. セル11において、DatabricksVectorSearchIndex のリソースを追加します。カタログとスキーマを埋めましょう。\n",
    "```\n",
    "resources = [\n",
    "    DatabricksServingEndpoint(endpoint_name=LLM_ENDPOINT_NAME), \n",
    "    DatabricksServingEndpoint(endpoint_name=\"openhack-text-embedding-ada-002\"),\n",
    "    DatabricksVectorSearchIndex(index_name=\"{catalog}.{schema}.product_documentation_vs\"),\n",
    "    DatabricksFunction(function_name=\"{catalog}.common.manual_retriever\"),\n",
    "    ]\n",
    "```"
   ]
  },
  {
   "cell_type": "markdown",
   "metadata": {
    "application/vnd.databricks.v1+cell": {
     "cellMetadata": {},
     "inputWidgets": {},
     "nuid": "515bbf64-d835-4dd0-b5a5-67d2e5c2006f",
     "showTitle": false,
     "tableResultSettingsMap": {},
     "title": ""
    }
   },
   "source": [
    "## Q3. Databricks Apps との連携\n",
    "Databricks AppsのGUIを使用してchatbot agentをデプロイする手順は以下の通りです:\n",
    "\n",
    "1. Databricksワークスペースにログインします。\n",
    "\n",
    "2. 左側のナビゲーションバーで「コンピュート」をクリックし、「アプリ」タブに移動します。\n",
    "\n",
    "3. 「新規アプリの作成」ボタンをクリックします。\n",
    "\n",
    "4. アプリの名前を入力します。例えば「chatbot-agent」などです。\n",
    "\n",
    "5. アプリのテンプレートとして「Chatbot」または類似のオプションを選択します。\n",
    "\n",
    "6. アプリの設定画面で、以下の情報を入力します:\n",
    "   - アプリの説明\n",
    "   - \n",
    "   - 環境変数（必要に応じて）\n",
    "\n",
    "7. エージェントのエンドポイントを指定します。\n",
    "\n",
    "8. MLflow ChatModelを使用してagentを実装していることを確認します。これにより、Databricks AI Agent機能との互換性が確保されます。\n",
    "\n",
    "9. 設定が完了したら、「デプロイ」または「作成」ボタンをクリックします。\n",
    "\n",
    "10. デプロイが完了すると、アプリの詳細ページが表示されます。ここでステータスや公開URLを確認できます。\n",
    "\n",
    "11. アプリのテストを行い、必要に応じて設定やコードを調整します。\n",
    "\n",
    "12. 公開の準備ができたら、アクセス権限を設定し、公開URLを通じてユーザーがアプリにアクセスできるようにします。"
   ]
  }
 ],
 "metadata": {
  "application/vnd.databricks.v1+notebook": {
   "computePreferences": null,
   "dashboards": [],
   "environmentMetadata": {
    "base_environment": "",
    "environment_version": "2"
   },
   "language": "python",
   "notebookMetadata": {
    "mostRecentlyExecutedCommandWithImplicitDF": {
     "commandId": 6800477013497689,
     "dataframes": [
      "_sqldf"
     ]
    },
    "pythonIndentUnit": 4
   },
   "notebookName": "07_ai_agent",
   "widgets": {}
  },
  "language_info": {
   "name": "python"
  }
 },
 "nbformat": 4,
 "nbformat_minor": 0
}
