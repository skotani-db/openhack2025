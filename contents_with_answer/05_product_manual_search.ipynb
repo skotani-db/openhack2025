{
 "cells": [
  {
   "cell_type": "markdown",
   "metadata": {
    "application/vnd.databricks.v1+cell": {
     "cellMetadata": {},
     "inputWidgets": {},
     "nuid": "ba848006-9bf0-4c80-a85e-b6595a97bfa0",
     "showTitle": false,
     "tableResultSettingsMap": {},
     "title": ""
    }
   },
   "source": [
    "# プロダクトマニュアルをVector Search Indexで検索可能な状態にする(標準時間:30分)"
   ]
  },
  {
   "cell_type": "markdown",
   "metadata": {
    "application/vnd.databricks.v1+cell": {
     "cellMetadata": {},
     "inputWidgets": {},
     "nuid": "c0cc98a7-64bc-44d9-b25a-983b2d432955",
     "showTitle": false,
     "tableResultSettingsMap": {},
     "title": ""
    }
   },
   "source": [
    "## 本ノートブックの目的：Databricks における Vector Search のテキスト検索と Index へのガバナンスを理解する\n",
    "Q1. プロダクトマニュアルの前処理<br>\n",
    "Q2. Vector Search Index の作成<br>\n",
    "Q3. Vector Search のツール化とアクセス制御"
   ]
  },
  {
   "cell_type": "markdown",
   "metadata": {
    "application/vnd.databricks.v1+cell": {
     "cellMetadata": {},
     "inputWidgets": {},
     "nuid": "e2fa299e-6cce-4441-84e9-bd0355165892",
     "showTitle": false,
     "tableResultSettingsMap": {},
     "title": ""
    }
   },
   "source": [
    "## 事前準備 (標準時間：10分)"
   ]
  },
  {
   "cell_type": "code",
   "execution_count": 0,
   "metadata": {
    "application/vnd.databricks.v1+cell": {
     "cellMetadata": {
      "byteLimit": 2048000,
      "rowLimit": 10000
     },
     "inputWidgets": {},
     "nuid": "93570627-2fb2-4a37-9839-a295185fe358",
     "showTitle": false,
     "tableResultSettingsMap": {},
     "title": ""
    }
   },
   "outputs": [],
   "source": [
    "%pip install -U bs4 langchain_core langchain_text_splitters databricks-vectorsearch pydantic"
   ]
  },
  {
   "cell_type": "code",
   "execution_count": 0,
   "metadata": {
    "application/vnd.databricks.v1+cell": {
     "cellMetadata": {
      "byteLimit": 2048000,
      "rowLimit": 10000
     },
     "inputWidgets": {},
     "nuid": "4683a072-8650-466d-8c30-41db7f4cafaa",
     "showTitle": false,
     "tableResultSettingsMap": {},
     "title": ""
    }
   },
   "outputs": [],
   "source": [
    "%restart_python"
   ]
  },
  {
   "cell_type": "code",
   "execution_count": 0,
   "metadata": {
    "application/vnd.databricks.v1+cell": {
     "cellMetadata": {
      "byteLimit": 2048000,
      "rowLimit": 10000
     },
     "inputWidgets": {},
     "nuid": "ecb5abf7-dc52-4ad3-b364-5ebc84ce1a7e",
     "showTitle": false,
     "tableResultSettingsMap": {},
     "title": ""
    }
   },
   "outputs": [],
   "source": [
    "%run ./00_config"
   ]
  },
  {
   "cell_type": "code",
   "execution_count": 0,
   "metadata": {
    "application/vnd.databricks.v1+cell": {
     "cellMetadata": {
      "byteLimit": 2048000,
      "rowLimit": 10000
     },
     "inputWidgets": {},
     "nuid": "032882c8-4744-487c-8d70-db384bec5d2b",
     "showTitle": false,
     "tableResultSettingsMap": {},
     "title": ""
    }
   },
   "outputs": [],
   "source": [
    "# 本ノートブックで利用するスキーマを作成\n",
    "schema_name = f\"05_vector_search_index_for_{user_name}\"\n",
    "print(f\"schema_name: `{schema_name}`\")\n",
    "spark.sql(\n",
    "    f\"\"\"\n",
    "    CREATE SCHEMA IF NOT EXISTS {catalog_name}.{schema_name}\n",
    "    \"\"\"\n",
    ")\n",
    "spark.sql(f\"USE {catalog_name}.{schema_name}\")\n",
    "\n",
    "# 本ノートブックで利用するボリュームを作成\n",
    "volume_name = f\"product_manual\"\n",
    "print(f\"volume_name: `{volume_name}`\")\n",
    "spark.sql(\n",
    "    f\"\"\"\n",
    "    CREATE VOLUME IF NOT EXISTS {catalog_name}.{schema_name}.{volume_name}\n",
    "    \"\"\"\n",
    ")"
   ]
  },
  {
   "cell_type": "markdown",
   "metadata": {
    "application/vnd.databricks.v1+cell": {
     "cellMetadata": {},
     "inputWidgets": {},
     "nuid": "f88f2632-5e76-4e15-af8b-fd72dd138619",
     "showTitle": false,
     "tableResultSettingsMap": {},
     "title": ""
    }
   },
   "source": [
    "### ソースデータファイルのダウンロードとボリュームへのアップロード\n",
    "1. 現在のノートブックの左型タブにある`Workspace (Ctrl + Alt + E)`を選択し、現在のディレクトリにある`data`フォルダに移動\n",
    "1. `product_manual`フォルダのハンバーガーメニュー（`︙`）を選択して、 `ダウンロード形式：` -> `ソースファイル` をクリックしてデータファイルをダウンロード\n",
    "1. ダウンロードした Zip ファイルを解凍\n",
    "1. 現在のノートブックの左型タブにある`Catalog (Ctrl + Alt + C)`を選択後、`05_vector_search_index_for_{username}`スキーマ下にある`product_manual` Volume にてハンバーガーメニュー（`︙`）を選択し、`このボリュームにアップロード`を選択\n",
    "1. 表示されたウィンドウに解凍した CSV ファイルをすべて配置して、`アップロード`を選択\n",
    "1. 下記のセルを実行し、ファイルが配置されていることを確認"
   ]
  },
  {
   "cell_type": "code",
   "execution_count": 0,
   "metadata": {
    "application/vnd.databricks.v1+cell": {
     "cellMetadata": {
      "byteLimit": 2048000,
      "rowLimit": 10000
     },
     "inputWidgets": {},
     "nuid": "f60190ce-bb2e-4288-b8f5-f7bc9e525a2c",
     "showTitle": false,
     "tableResultSettingsMap": {},
     "title": ""
    }
   },
   "outputs": [],
   "source": [
    "# ファイルが配置されていることを確認\n",
    "src_file_dir = f\"/Volumes/{catalog_name}/{schema_name}/{volume_name}\"\n",
    "file_list = dbutils.fs.ls(src_file_dir)\n",
    "if file_list == []:\n",
    "    raise Exception(\"ファイルがディレクトリにありません。ファイルを配置してください。\")\n",
    "display(dbutils.fs.ls(src_file_dir))"
   ]
  },
  {
   "cell_type": "markdown",
   "metadata": {
    "application/vnd.databricks.v1+cell": {
     "cellMetadata": {},
     "inputWidgets": {},
     "nuid": "d56d6065-393d-41bc-a460-1e4f1edcbc60",
     "showTitle": false,
     "tableResultSettingsMap": {},
     "title": ""
    }
   },
   "source": [
    "## Q1. プロダクトマニュアルの前処理(標準時間：10分)\n",
    "ダウンロード後に解凍した`product_manual`フォルダから、`index.html`を開いてみましょう。 \\\n",
    "マニュアルはHTMLで記述され、FAQやトラブルシューティングといったセクションに分かれています。 \n",
    "\n",
    "起票されたサポートチケットに対してマニュアルに基づいて適切な回答を作成するためには、マニュアルの記載をLLMに入力して適切な回答を考えてもらう必要があります。 \\\n",
    "しかし、膨大なマニュアルの全てをLLMへ入力することはモデルでは通常入力可能なトークンの数が決まっているため不可能であり、コストや性能の観点からも望ましくありません。\n",
    "\n",
    "このため、マニュアルを小さな塊に分割し、クエリと関連しそうな記述の塊（一般的にチャンクと呼ばれます）を抽出して、LLMへ与える文脈情報とします。今回はHTMLのH2タグによってHTMLファイルを分割します。"
   ]
  },
  {
   "cell_type": "markdown",
   "metadata": {
    "application/vnd.databricks.v1+cell": {
     "cellMetadata": {},
     "inputWidgets": {},
     "nuid": "6c7e914b-d6ab-4548-b090-feceea917ebf",
     "showTitle": false,
     "tableResultSettingsMap": {},
     "title": ""
    }
   },
   "source": [
    "### 実践例(langchainの公式ドキュメントから引用)\n",
    "HTMLの構造は以下のようにタグとその中のコンテンツを区別して簡潔に説明できます：\n",
    "\n",
    "1. h1タグ: 最も重要な大見出し\n",
    "   - ページの主題やタイトルを表す\n",
    "   - 通常、1ページに1つのみ使用\n",
    "\n",
    "2. h2タグ: 中見出し\n",
    "   - 主要なセクションや章を表す\n",
    "   - h1の下位階層として複数使用可能\n",
    "\n",
    "3. h3タグ: 小見出し\n",
    "   - h2の下位階層として使用\n",
    "   - セクション内の重要なポイントを表す\n",
    "\n",
    "4. pタグ: 段落\n",
    "   - 本文のテキストを含む\n",
    "   - 見出しの下に配置され、関連するコンテンツを表示\n",
    "\n",
    "今回はBeautifulSoupと呼ばれるHTMLの解析を行うPythonパッケージを用いて、マニュアルの各ファイルを分割し、テーブル形式で保存します。"
   ]
  },
  {
   "cell_type": "code",
   "execution_count": 0,
   "metadata": {
    "application/vnd.databricks.v1+cell": {
     "cellMetadata": {
      "byteLimit": 2048000,
      "rowLimit": 10000
     },
     "inputWidgets": {},
     "nuid": "fc04b89e-c630-4a93-af25-bac1faf5fb49",
     "showTitle": false,
     "tableResultSettingsMap": {},
     "title": ""
    }
   },
   "outputs": [],
   "source": [
    "html_string = \"\"\"\n",
    "<!DOCTYPE html>\n",
    "<html lang='ja'>\n",
    "<head>\n",
    "  <meta charset='UTF-8'>\n",
    "  <meta name='viewport' content='width=device-width, initial-scale=1.0'>\n",
    "  <title>おしゃれなHTMLページの例</title>\n",
    "</head>\n",
    "<body>\n",
    "  <h1>メインタイトル</h1>\n",
    "  <p>これは基本的な内容を含む導入段落です。</p>\n",
    "  \n",
    "  <h2>セクション1：はじめに</h2>\n",
    "  <p>このセクションではトピックを紹介します。以下はリストです：</p>\n",
    "  <ul>\n",
    "    <li>最初の項目</li>\n",
    "    <li>2番目の項目</li>\n",
    "    <li><strong>太字のテキスト</strong>と<a href='#'>リンク</a>を含む3番目の項目</li>\n",
    "  </ul>\n",
    "  \n",
    "  <h3>サブセクション1.1：詳細</h3>\n",
    "  <p>このサブセクションでは追加の詳細を提供します。以下は表です：</p>\n",
    "  <table border='1'>\n",
    "    <thead>\n",
    "      <tr>\n",
    "        <th>ヘッダー1</th>\n",
    "        <th>ヘッダー2</th>\n",
    "        <th>ヘッダー3</th>\n",
    "      </tr>\n",
    "    </thead>\n",
    "    <tbody>\n",
    "      <tr>\n",
    "        <td>1行目、1列目</td>\n",
    "        <td>1行目、2列目</td>\n",
    "        <td>1行目、3列目</td>\n",
    "      </tr>\n",
    "      <tr>\n",
    "        <td>2行目、1列目</td>\n",
    "        <td>2行目、2列目</td>\n",
    "        <td>2行目、3列目</td>\n",
    "      </tr>\n",
    "    </tbody>\n",
    "  </table>\n",
    "\n",
    "  <h2>結論</h2>\n",
    "  <p>これは文書の結論です。</p>\n",
    "</body>\n",
    "</html>\n",
    "\n",
    "\n",
    "\"\"\""
   ]
  },
  {
   "cell_type": "code",
   "execution_count": 0,
   "metadata": {
    "application/vnd.databricks.v1+cell": {
     "cellMetadata": {
      "byteLimit": 2048000,
      "rowLimit": 10000
     },
     "inputWidgets": {},
     "nuid": "b8b9f983-9075-47c8-81b4-e8c557f16dc9",
     "showTitle": false,
     "tableResultSettingsMap": {},
     "title": ""
    }
   },
   "outputs": [],
   "source": [
    "from bs4 import BeautifulSoup\n",
    "\n",
    "def split_html_without_headers(html_string):\n",
    "    # h1, h2, h3, pタグのヘッダーを抽出する\n",
    "    soup = BeautifulSoup(html_string, 'html.parser')\n",
    "    headers = soup.find_all(['h1', 'h2', 'h3'])\n",
    "    \n",
    "    # h1, h2, h3, pタグのヘッダーを除いたコンテンツ\n",
    "    chunks = []\n",
    "    for header in headers:\n",
    "        content = ''\n",
    "        for sibling in header.find_next_siblings():\n",
    "            if sibling.name in ['h1', 'h2', 'h3']:\n",
    "                break\n",
    "            content += sibling.get_text()\n",
    "        \n",
    "        if content.strip():\n",
    "            chunks.append(content.strip())\n",
    "    \n",
    "    return chunks\n",
    "\n",
    "display(\n",
    "    split_html_without_headers(html_string)\n",
    "    )"
   ]
  },
  {
   "cell_type": "markdown",
   "metadata": {
    "application/vnd.databricks.v1+cell": {
     "cellMetadata": {},
     "inputWidgets": {},
     "nuid": "c858094c-5250-4f70-ae17-b53618327233",
     "showTitle": false,
     "tableResultSettingsMap": {},
     "title": ""
    }
   },
   "source": [
    "## ToDo: HTMLファイルのレコードをチャンクへ分割し、`product_documentation`テーブルへ格納"
   ]
  },
  {
   "cell_type": "code",
   "execution_count": 0,
   "metadata": {
    "application/vnd.databricks.v1+cell": {
     "cellMetadata": {
      "byteLimit": 2048000,
      "rowLimit": 10000
     },
     "inputWidgets": {},
     "nuid": "f487dec4-8b58-4b30-9833-433ba5f3a144",
     "showTitle": false,
     "tableResultSettingsMap": {},
     "title": ""
    }
   },
   "outputs": [],
   "source": [
    "import pyspark.sql.functions as F\n",
    "\n",
    "html_file = (\n",
    "    spark\n",
    "    .read\n",
    "    .option(\"wholetext\", True)\n",
    "    .text(f\"/Volumes/{catalog_name}/{schema_name}/{volume_name}/*.html\")\n",
    "    .withColumn(\"filename\", F.col(\"_metadata.file_path\"))\n",
    "    .withColumn(\"filename\", F.regexp_replace(F.col(\"filename\"), r'^.*/', ''))\n",
    "    )\n",
    "\n",
    "display(html_file)"
   ]
  },
  {
   "cell_type": "code",
   "execution_count": 0,
   "metadata": {
    "application/vnd.databricks.v1+cell": {
     "cellMetadata": {
      "byteLimit": 2048000,
      "rowLimit": 10000
     },
     "inputWidgets": {},
     "nuid": "703ff414-2ab7-44e1-9778-b1ecb77b8245",
     "showTitle": false,
     "tableResultSettingsMap": {},
     "title": ""
    }
   },
   "outputs": [],
   "source": [
    "import pandas as pd\n",
    "\n",
    "@F.pandas_udf(\"array<string>\")\n",
    "def parse_and_split(docs: pd.Series) -> pd.Series:\n",
    "    return docs.apply(split_html_without_headers)"
   ]
  },
  {
   "cell_type": "code",
   "execution_count": 0,
   "metadata": {
    "application/vnd.databricks.v1+cell": {
     "cellMetadata": {
      "byteLimit": 2048000,
      "rowLimit": 10000
     },
     "inputWidgets": {},
     "nuid": "88b229f7-75e2-4685-87df-9538d76d60f3",
     "showTitle": false,
     "tableResultSettingsMap": {},
     "title": ""
    }
   },
   "outputs": [],
   "source": [
    "(\n",
    "    html_file\n",
    "    .withColumn(\"content\", F.explode(parse_and_split(\"value\")))\n",
    "    .write.mode('overwrite').saveAsTable(\"product_documentation\")\n",
    ")"
   ]
  },
  {
   "cell_type": "code",
   "execution_count": 0,
   "metadata": {
    "application/vnd.databricks.v1+cell": {
     "cellMetadata": {
      "byteLimit": 2048000,
      "implicitDf": true,
      "rowLimit": 10000
     },
     "inputWidgets": {},
     "nuid": "7648c758-ec36-4a5f-9204-fb2baae27f6d",
     "showTitle": false,
     "tableResultSettingsMap": {},
     "title": ""
    }
   },
   "outputs": [],
   "source": [
    "%sql\n",
    "SELECT * FROM product_documentation"
   ]
  },
  {
   "cell_type": "markdown",
   "metadata": {
    "application/vnd.databricks.v1+cell": {
     "cellMetadata": {},
     "inputWidgets": {},
     "nuid": "f2d0f335-63f7-4bbb-a318-15853fa4f7bf",
     "showTitle": false,
     "tableResultSettingsMap": {},
     "title": ""
    }
   },
   "source": [
    "## Q2. Vector Search Index の作成(標準時間：10分)"
   ]
  },
  {
   "cell_type": "markdown",
   "metadata": {
    "application/vnd.databricks.v1+cell": {
     "cellMetadata": {},
     "inputWidgets": {},
     "nuid": "df0f7f64-c411-4f66-b8b4-bf65b062321b",
     "showTitle": false,
     "tableResultSettingsMap": {},
     "title": ""
    }
   },
   "source": [
    "### ベクトル検索とは\n",
    "![ベクトル検索とは](/Workspace/Users/shotaro.kotani@nssoldlp.onmicrosoft.com/openhack2025/contents_with_answer/dev_shotkotani/data/img/vector_index.png)\n",
    "\n",
    "この画像は、ベクトル検索の概念をわかりやすく表現しています。\n",
    "\n",
    "*   **ベクトル表現（赤い点）:** 各赤い点は、特定のデータオブジェクト（例えば、画像、テキストドキュメント）のベクトル表現を表しています。ディープラーニングモデルなどの手法を用いて、データオブジェクトはその意味や内容に基づいて数値ベクトルに変換されます。\n",
    "*   **クラスタリング:** 同様のデータオブジェクトは、多次元空間内で互いに近い位置に集まり、クラスタを形成します。画像の例では、「Dogs」と「Cat」のアイコンで示されたクラスタが、犬と猫の画像に対応しています。\n",
    "*   **クエリベクトル（青い点）:** 「find me all cats」というテキストのクエリは、同様にベクトルに変換され、多次元空間内の青い点で表されます。\n",
    "*   **類似度検索:** ベクトル検索では、クエリベクトルに最も近いデータベクトルを見つけます。画像では、青い点から猫のクラスタ内の赤い点への線が、この類似度を示しています。\n",
    "\n",
    "要するに、ベクトル検索は、データオブジェクトをその意味や内容に基づいて多次元空間に配置し、クエリとデータオブジェクト間の距離（類似度）を計算することで、関連性の高い情報を効率的に見つけ出す技術です。\n"
   ]
  },
  {
   "cell_type": "code",
   "execution_count": 0,
   "metadata": {
    "application/vnd.databricks.v1+cell": {
     "cellMetadata": {
      "byteLimit": 2048000,
      "rowLimit": 10000
     },
     "inputWidgets": {},
     "nuid": "1a07d5f9-a17d-408a-8ecd-8bf24ffb79b4",
     "showTitle": false,
     "tableResultSettingsMap": {},
     "title": ""
    }
   },
   "outputs": [],
   "source": [
    "import mlflow.deployments\n",
    "\n",
    "# Databricks のデプロイメントクライアントを取得\n",
    "deploy_client = mlflow.deployments.get_deploy_client(\"databricks\")\n",
    "\n",
    "# OpenAI の text-embedding-ada-002 を使用（エンベディング生成）を実行\n",
    "# エンドポイント \"openhack-text-embedding-ada-002\" に対して、\"What is Apache Spark?\" という入力テキストを渡す\n",
    "response = deploy_client.predict(\n",
    "    endpoint=\"openhack-text-embedding-ada-002\",\n",
    "    inputs={\"input\": [\"Apache Spark とはなんでしょう?\"]}\n",
    ")\n",
    "\n",
    "# 結果を取得\n",
    "embeddings = [e[\"embedding\"] for e in response.data]\n",
    "print(embeddings)"
   ]
  },
  {
   "cell_type": "markdown",
   "metadata": {
    "application/vnd.databricks.v1+cell": {
     "cellMetadata": {},
     "inputWidgets": {},
     "nuid": "547e86c4-c57b-4d68-972f-5b12b0ba9010",
     "showTitle": false,
     "tableResultSettingsMap": {},
     "title": ""
    }
   },
   "source": [
    "### produc"
   ]
  },
  {
   "cell_type": "code",
   "execution_count": 0,
   "metadata": {
    "application/vnd.databricks.v1+cell": {
     "cellMetadata": {},
     "inputWidgets": {},
     "nuid": "d614fc74-7e4f-44fe-a21c-5f1d6740dd63",
     "showTitle": false,
     "tableResultSettingsMap": {},
     "title": ""
    }
   },
   "outputs": [],
   "source": [
    "# 以下はVector Searchエンドポイントの作成例です。\n",
    "# Vector Searchエンドポイントの作成には10分～15分ほどかかります。 本日は時間がないので、作成済みのエンドポイントを利用します。\n",
    "\n",
    "from databricks.vector_search.client import VectorSearchClient\n",
    "vsc = VectorSearchClient()\n",
    "\n",
    "if not endpoint_exists(vsc, VECTOR_SEARCH_ENDPOINT_NAME):\n",
    "    vsc.create_endpoint(name=VECTOR_SEARCH_ENDPOINT_NAME, endpoint_type=\"STANDARD\")\n",
    "\n",
    "wait_for_vs_endpoint_to_be_ready(vsc, VECTOR_SEARCH_ENDPOINT_NAME)\n",
    "print(f\"Endpoint named {VECTOR_SEARCH_ENDPOINT_NAME} is ready.\")\n",
    "\n"
   ]
  }
 ],
 "metadata": {
  "application/vnd.databricks.v1+notebook": {
   "computePreferences": null,
   "dashboards": [],
   "environmentMetadata": {
    "base_environment": "",
    "environment_version": "2"
   },
   "language": "python",
   "notebookMetadata": {
    "mostRecentlyExecutedCommandWithImplicitDF": {
     "commandId": 6226391994513049,
     "dataframes": [
      "_sqldf"
     ]
    },
    "pythonIndentUnit": 4
   },
   "notebookName": "05_product_manual_search",
   "widgets": {}
  },
  "language_info": {
   "name": "python"
  }
 },
 "nbformat": 4,
 "nbformat_minor": 0
}
