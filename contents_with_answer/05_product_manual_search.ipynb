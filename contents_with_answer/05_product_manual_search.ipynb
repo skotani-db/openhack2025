{
 "cells": [
  {
   "cell_type": "markdown",
   "metadata": {
    "application/vnd.databricks.v1+cell": {
     "cellMetadata": {},
     "inputWidgets": {},
     "nuid": "d2813753-e985-48a9-832c-2d7d69fb4d52",
     "showTitle": false,
     "tableResultSettingsMap": {},
     "title": ""
    }
   },
   "source": [
    "# プロダクトマニュアルをVector Search Indexで検索可能な状態にする(標準時間:30分)"
   ]
  },
  {
   "cell_type": "markdown",
   "metadata": {
    "application/vnd.databricks.v1+cell": {
     "cellMetadata": {},
     "inputWidgets": {},
     "nuid": "38d8e73a-8f16-4820-8669-94f568660dda",
     "showTitle": false,
     "tableResultSettingsMap": {},
     "title": ""
    }
   },
   "source": [
    "## 本ノートブックの目的：Databricks における Vector Search のテキスト検索と Index へのガバナンスを理解する\n",
    "Q1. プロダクトマニュアルの前処理<br>\n",
    "Q2. Vector Search Index の作成<br>\n",
    "Q3. Vector Search のツール化とアクセス制御"
   ]
  },
  {
   "cell_type": "markdown",
   "metadata": {
    "application/vnd.databricks.v1+cell": {
     "cellMetadata": {},
     "inputWidgets": {},
     "nuid": "f70605fb-002d-4e54-ae12-5fbdec8f8626",
     "showTitle": false,
     "tableResultSettingsMap": {},
     "title": ""
    }
   },
   "source": [
    "## 事前準備 (標準時間：10分)"
   ]
  },
  {
   "cell_type": "code",
   "execution_count": 0,
   "metadata": {
    "application/vnd.databricks.v1+cell": {
     "cellMetadata": {
      "byteLimit": 2048000,
      "rowLimit": 10000
     },
     "inputWidgets": {},
     "nuid": "2c3ea5d8-f830-4adf-a971-940aa2cf07f7",
     "showTitle": false,
     "tableResultSettingsMap": {},
     "title": ""
    }
   },
   "outputs": [],
   "source": [
    "%pip install -U bs4 langchain_core langchain_text_splitters databricks-vectorsearch pydantic transformers unitycatalog-ai[databricks] unitycatalog-langchain[databricks] databricks-langchain"
   ]
  },
  {
   "cell_type": "code",
   "execution_count": 0,
   "metadata": {
    "application/vnd.databricks.v1+cell": {
     "cellMetadata": {
      "byteLimit": 2048000,
      "rowLimit": 10000
     },
     "inputWidgets": {},
     "nuid": "c8efb870-32b1-45cc-b4e3-18b198af2a57",
     "showTitle": false,
     "tableResultSettingsMap": {},
     "title": ""
    }
   },
   "outputs": [],
   "source": [
    "%restart_python"
   ]
  },
  {
   "cell_type": "code",
   "execution_count": 0,
   "metadata": {
    "application/vnd.databricks.v1+cell": {
     "cellMetadata": {
      "byteLimit": 2048000,
      "rowLimit": 10000
     },
     "inputWidgets": {},
     "nuid": "d96ea0ed-47c9-4618-8228-e14ed34aae36",
     "showTitle": false,
     "tableResultSettingsMap": {},
     "title": ""
    }
   },
   "outputs": [],
   "source": [
    "%run ./00_config"
   ]
  },
  {
   "cell_type": "code",
   "execution_count": 0,
   "metadata": {
    "application/vnd.databricks.v1+cell": {
     "cellMetadata": {
      "byteLimit": 2048000,
      "rowLimit": 10000
     },
     "inputWidgets": {},
     "nuid": "f88d6dfd-9fef-48f4-957d-4b535208e28d",
     "showTitle": false,
     "tableResultSettingsMap": {},
     "title": ""
    }
   },
   "outputs": [],
   "source": [
    "# 本ノートブックで利用するスキーマを作成\n",
    "schema_name = f\"05_vector_search_index_for_{user_name}\"\n",
    "print(f\"schema_name: `{schema_name}`\")\n",
    "spark.sql(\n",
    "    f\"\"\"\n",
    "    CREATE SCHEMA IF NOT EXISTS {catalog_name}.{schema_name}\n",
    "    \"\"\"\n",
    ")\n",
    "spark.sql(f\"USE {catalog_name}.{schema_name}\")\n",
    "\n",
    "# 本ノートブックで利用するボリュームを作成\n",
    "volume_name = f\"product_manual\"\n",
    "print(f\"volume_name: `{volume_name}`\")\n",
    "spark.sql(\n",
    "    f\"\"\"\n",
    "    CREATE VOLUME IF NOT EXISTS {catalog_name}.{schema_name}.{volume_name}\n",
    "    \"\"\"\n",
    ")"
   ]
  },
  {
   "cell_type": "markdown",
   "metadata": {
    "application/vnd.databricks.v1+cell": {
     "cellMetadata": {},
     "inputWidgets": {},
     "nuid": "d47ca2ea-4078-435a-89ab-72054ccb6582",
     "showTitle": false,
     "tableResultSettingsMap": {},
     "title": ""
    }
   },
   "source": [
    "### ソースデータファイルのダウンロードとボリュームへのアップロード\n",
    "1. 現在のノートブックの左型タブにある`Workspace (Ctrl + Alt + E)`を選択し、現在のディレクトリにある`data`フォルダに移動\n",
    "1. `product_manual`フォルダのハンバーガーメニュー（`︙`）を選択して、 `ダウンロード形式：` -> `ソースファイル` をクリックしてデータファイルをダウンロード\n",
    "1. ダウンロードした Zip ファイルを解凍\n",
    "1. 現在のノートブックの左型タブにある`Catalog (Ctrl + Alt + C)`を選択後、`05_vector_search_index_for_{username}`スキーマ下にある`product_manual` Volume にてハンバーガーメニュー（`︙`）を選択し、`このボリュームにアップロード`を選択\n",
    "1. 表示されたウィンドウに解凍した CSV ファイルをすべて配置して、`アップロード`を選択\n",
    "1. 下記のセルを実行し、ファイルが配置されていることを確認"
   ]
  },
  {
   "cell_type": "code",
   "execution_count": 0,
   "metadata": {
    "application/vnd.databricks.v1+cell": {
     "cellMetadata": {
      "byteLimit": 2048000,
      "rowLimit": 10000
     },
     "inputWidgets": {},
     "nuid": "7aa0be07-01fe-43fa-8958-5545e43c4b6e",
     "showTitle": false,
     "tableResultSettingsMap": {},
     "title": ""
    }
   },
   "outputs": [],
   "source": [
    "# ファイルが配置されていることを確認\n",
    "src_file_dir = f\"/Volumes/{catalog_name}/{schema_name}/{volume_name}\"\n",
    "file_list = dbutils.fs.ls(src_file_dir)\n",
    "if file_list == []:\n",
    "    raise Exception(\"ファイルがディレクトリにありません。ファイルを配置してください。\")\n",
    "display(dbutils.fs.ls(src_file_dir))"
   ]
  },
  {
   "cell_type": "markdown",
   "metadata": {
    "application/vnd.databricks.v1+cell": {
     "cellMetadata": {},
     "inputWidgets": {},
     "nuid": "2e63ec9a-356b-44a4-a52b-f0c5aa94b663",
     "showTitle": false,
     "tableResultSettingsMap": {},
     "title": ""
    }
   },
   "source": [
    "## Q1. プロダクトマニュアルの前処理(標準時間：10分)\n",
    "ダウンロード後に解凍した`product_manual`フォルダから、`index.html`を開いてみましょう。 \\\n",
    "マニュアルはHTMLで記述され、FAQやトラブルシューティングといったセクションに分かれています。 \n",
    "\n",
    "起票されたサポートチケットに対してマニュアルに基づいて適切な回答を作成するためには、マニュアルの記載をLLMに入力して適切な回答を考えてもらう必要があります。 \\\n",
    "しかし、膨大なマニュアルの全てをLLMへ入力することはモデルでは通常入力可能なトークンの数が決まっているため不可能であり、コストや性能の観点からも望ましくありません。\n",
    "\n",
    "このため、マニュアルを小さな塊に分割し、クエリと関連しそうな記述の塊（一般的にチャンクと呼ばれます）を抽出して、LLMへ与える文脈情報とします。今回はHTMLのH2タグによってHTMLファイルを分割します。"
   ]
  },
  {
   "cell_type": "markdown",
   "metadata": {
    "application/vnd.databricks.v1+cell": {
     "cellMetadata": {},
     "inputWidgets": {},
     "nuid": "312f974e-06cf-4acf-9231-ee2b7486f654",
     "showTitle": false,
     "tableResultSettingsMap": {},
     "title": ""
    }
   },
   "source": [
    "### 実践例(langchainの公式ドキュメントから引用)\n",
    "HTMLの構造は以下のようにタグとその中のコンテンツを区別して簡潔に説明できます：\n",
    "\n",
    "1. h1タグ: 最も重要な大見出し\n",
    "   - ページの主題やタイトルを表す\n",
    "   - 通常、1ページに1つのみ使用\n",
    "\n",
    "2. h2タグ: 中見出し\n",
    "   - 主要なセクションや章を表す\n",
    "   - h1の下位階層として複数使用可能\n",
    "\n",
    "3. h3タグ: 小見出し\n",
    "   - h2の下位階層として使用\n",
    "   - セクション内の重要なポイントを表す\n",
    "\n",
    "4. pタグ: 段落\n",
    "   - 本文のテキストを含む\n",
    "   - 見出しの下に配置され、関連するコンテンツを表示\n",
    "\n",
    "今回はBeautifulSoupと呼ばれるHTMLの解析を行うPythonパッケージを用いて、マニュアルの各ファイルを分割し、テーブル形式で保存します。"
   ]
  },
  {
   "cell_type": "code",
   "execution_count": 0,
   "metadata": {
    "application/vnd.databricks.v1+cell": {
     "cellMetadata": {},
     "inputWidgets": {},
     "nuid": "25e8d1fa-b6ea-45ea-a508-44dbb39b0882",
     "showTitle": false,
     "tableResultSettingsMap": {},
     "title": ""
    }
   },
   "outputs": [],
   "source": [
    "html_string = \"\"\"\n",
    "<!DOCTYPE html>\n",
    "<html lang='ja'>\n",
    "<head>\n",
    "  <meta charset='UTF-8'>\n",
    "  <meta name='viewport' content='width=device-width, initial-scale=1.0'>\n",
    "  <title>おしゃれなHTMLページの例</title>\n",
    "</head>\n",
    "<body>\n",
    "  <h1>メインタイトル</h1>\n",
    "  <p>これは基本的な内容を含む導入段落です。</p>\n",
    "  \n",
    "  <h2>セクション1：はじめに</h2>\n",
    "  <p>このセクションではトピックを紹介します。以下はリストです：</p>\n",
    "  <ul>\n",
    "    <li>最初の項目</li>\n",
    "    <li>2番目の項目</li>\n",
    "    <li><strong>太字のテキスト</strong>と<a href='#'>リンク</a>を含む3番目の項目</li>\n",
    "  </ul>\n",
    "  \n",
    "  <h3>サブセクション1.1：詳細</h3>\n",
    "  <p>このサブセクションでは追加の詳細を提供します。以下は表です：</p>\n",
    "  <table border='1'>\n",
    "    <thead>\n",
    "      <tr>\n",
    "        <th>ヘッダー1</th>\n",
    "        <th>ヘッダー2</th>\n",
    "        <th>ヘッダー3</th>\n",
    "      </tr>\n",
    "    </thead>\n",
    "    <tbody>\n",
    "      <tr>\n",
    "        <td>1行目、1列目</td>\n",
    "        <td>1行目、2列目</td>\n",
    "        <td>1行目、3列目</td>\n",
    "      </tr>\n",
    "      <tr>\n",
    "        <td>2行目、1列目</td>\n",
    "        <td>2行目、2列目</td>\n",
    "        <td>2行目、3列目</td>\n",
    "      </tr>\n",
    "    </tbody>\n",
    "  </table>\n",
    "\n",
    "  <h2>結論</h2>\n",
    "  <p>これは文書の結論です。</p>\n",
    "</body>\n",
    "</html>\n",
    "\n",
    "\n",
    "\"\"\""
   ]
  },
  {
   "cell_type": "code",
   "execution_count": 0,
   "metadata": {
    "application/vnd.databricks.v1+cell": {
     "cellMetadata": {},
     "inputWidgets": {},
     "nuid": "b4100135-3874-4d19-b57f-39670644b5e5",
     "showTitle": false,
     "tableResultSettingsMap": {},
     "title": ""
    }
   },
   "outputs": [],
   "source": [
    "from langchain.text_splitter import RecursiveCharacterTextSplitter\n",
    "from bs4 import BeautifulSoup\n",
    "from transformers import OpenAIGPTTokenizer\n",
    "\n",
    "max_chunk_size = 500\n",
    "tokenizer = OpenAIGPTTokenizer.from_pretrained(\"openai-gpt\")\n",
    "text_splitter = RecursiveCharacterTextSplitter.from_huggingface_tokenizer(tokenizer, chunk_size=max_chunk_size, chunk_overlap=50)\n",
    "\n",
    "def split_html_with_h3_p(html, min_chunk_size=20, max_chunk_size=500):\n",
    "    \"\"\"\n",
    "    HTMLコンテンツをh2, h3, pタグに基づいてチャンクに分割する関数。\n",
    "    分割後、チャンクがmin_chunk_size以上のトークン数であるものだけを返す。\n",
    "\n",
    "    Args:\n",
    "        html (str): 分割対象のHTML文字列\n",
    "        min_chunk_size (int): 分割後のチャンクが保持すべき最小トークン数\n",
    "        max_chunk_size (int): 各チャンクの最大トークン数\n",
    "\n",
    "    Returns:\n",
    "        list[str]: 分割されたテキストチャンクのリスト\n",
    "    \"\"\"\n",
    "\n",
    "    if not html:\n",
    "        return []\n",
    "\n",
    "    soup = BeautifulSoup(html, \"html.parser\")\n",
    "    chunks = []\n",
    "    current_h2 = None\n",
    "    current_h3 = None\n",
    "    current_chunk = \"\"\n",
    "\n",
    "    for tag in soup.find_all([\"h2\", \"h3\", \"p\"]):\n",
    "        text = tag.get_text(strip=True)\n",
    "        if not text:\n",
    "            continue\n",
    "\n",
    "        if tag.name == \"h2\":\n",
    "            # 新しいh2タグが現れた場合、既存のチャンクを分割してリストに追加。\n",
    "            if current_chunk:\n",
    "                chunks.extend(text_splitter.split_text(current_chunk.strip()))\n",
    "            current_h2 = text\n",
    "            current_h3 = None  # h3をリセット\n",
    "            current_chunk = f\"{current_h2}\\n\"\n",
    "            \n",
    "        elif tag.name == \"p\":\n",
    "            # pは現在のh2またはh3に追加\n",
    "            if len(tokenizer.encode(current_chunk + text)) <= max_chunk_size:\n",
    "                current_chunk += text + \"\\n\"\n",
    "            else:\n",
    "                chunks.extend(text_splitter.split_text(current_chunk.strip()))\n",
    "                current_chunk = text + \"\\n\"\n",
    "\n",
    "    if current_chunk:\n",
    "        chunks.extend(text_splitter.split_text(current_chunk.strip()))\n",
    "\n",
    "    return [c for c in chunks if len(tokenizer.encode(c)) > min_chunk_size]"
   ]
  },
  {
   "cell_type": "code",
   "execution_count": 0,
   "metadata": {
    "application/vnd.databricks.v1+cell": {
     "cellMetadata": {},
     "inputWidgets": {},
     "nuid": "06439a04-8484-411d-9fa0-a9277deb07c1",
     "showTitle": false,
     "tableResultSettingsMap": {},
     "title": ""
    }
   },
   "outputs": [],
   "source": [
    "display(split_html_with_h3_p(html_string))"
   ]
  },
  {
   "cell_type": "markdown",
   "metadata": {
    "application/vnd.databricks.v1+cell": {
     "cellMetadata": {},
     "inputWidgets": {},
     "nuid": "51424aa2-2f62-4a9b-a01a-2ed126938610",
     "showTitle": false,
     "tableResultSettingsMap": {},
     "title": ""
    }
   },
   "source": [
    "### ToDo: HTMLファイルのレコードをチャンクへ分割し、`product_documentation`テーブルへ格納"
   ]
  },
  {
   "cell_type": "code",
   "execution_count": 0,
   "metadata": {
    "application/vnd.databricks.v1+cell": {
     "cellMetadata": {},
     "inputWidgets": {},
     "nuid": "a21165fb-d6c7-4eaf-849d-960ca0931cbd",
     "showTitle": false,
     "tableResultSettingsMap": {},
     "title": ""
    }
   },
   "outputs": [],
   "source": [
    "%sql\n",
    "-- Change Data Feed を有効にする必要があるため、インデックス作成前に設定する\n",
    "\n",
    "CREATE TABLE IF NOT EXISTS product_documentation (\n",
    "  id BIGINT GENERATED BY DEFAULT AS IDENTITY,\n",
    "  filename STRING,\n",
    "  content STRING\n",
    ") TBLPROPERTIES (delta.enableChangeDataFeed = true); "
   ]
  },
  {
   "cell_type": "code",
   "execution_count": 0,
   "metadata": {
    "application/vnd.databricks.v1+cell": {
     "cellMetadata": {},
     "inputWidgets": {},
     "nuid": "2e370a46-6849-4cfb-9f13-fc991d94f257",
     "showTitle": false,
     "tableResultSettingsMap": {},
     "title": ""
    }
   },
   "outputs": [],
   "source": [
    "import pyspark.sql.functions as F\n",
    "\n",
    "html_file = (\n",
    "    spark\n",
    "    .read\n",
    "    .option(\"wholetext\", True)\n",
    "    .text(f\"/Volumes/{catalog_name}/{schema_name}/{volume_name}/*.html\")\n",
    "    .withColumn(\"filename\", F.col(\"_metadata.file_path\"))\n",
    "    .withColumn(\"filename\", F.regexp_replace(F.col(\"filename\"), r'^.*/', ''))\n",
    "    )\n",
    "\n",
    "display(html_file)"
   ]
  },
  {
   "cell_type": "code",
   "execution_count": 0,
   "metadata": {
    "application/vnd.databricks.v1+cell": {
     "cellMetadata": {},
     "inputWidgets": {},
     "nuid": "53b374e9-e72c-4f9b-9178-7c1907030470",
     "showTitle": false,
     "tableResultSettingsMap": {},
     "title": ""
    }
   },
   "outputs": [],
   "source": [
    "import pandas as pd\n",
    "\n",
    "@F.pandas_udf(\"array<string>\")\n",
    "def parse_and_split(docs: pd.Series) -> pd.Series:\n",
    "    return docs.apply(split_html_with_h3_p)"
   ]
  },
  {
   "cell_type": "code",
   "execution_count": 0,
   "metadata": {
    "application/vnd.databricks.v1+cell": {
     "cellMetadata": {},
     "inputWidgets": {},
     "nuid": "2119189d-9400-40a4-b47c-c090da868c96",
     "showTitle": false,
     "tableResultSettingsMap": {},
     "title": ""
    }
   },
   "outputs": [],
   "source": [
    "(\n",
    "    html_file\n",
    "    .withColumn(\"content\", F.explode(parse_and_split(\"value\")))\n",
    "    .select(\"filename\", \"content\")\n",
    "    .write.mode('overwrite').saveAsTable(\"product_documentation\")\n",
    ")"
   ]
  },
  {
   "cell_type": "code",
   "execution_count": 0,
   "metadata": {
    "application/vnd.databricks.v1+cell": {
     "cellMetadata": {},
     "inputWidgets": {},
     "nuid": "af6398a5-0194-459f-ad94-c8f43dd0ece8",
     "showTitle": false,
     "tableResultSettingsMap": {},
     "title": ""
    }
   },
   "outputs": [],
   "source": [
    "%sql\n",
    "SELECT * FROM product_documentation"
   ]
  },
  {
   "cell_type": "markdown",
   "metadata": {
    "application/vnd.databricks.v1+cell": {
     "cellMetadata": {},
     "inputWidgets": {},
     "nuid": "a13dc9d0-aa91-4a45-b629-06573568e1ab",
     "showTitle": false,
     "tableResultSettingsMap": {},
     "title": ""
    }
   },
   "source": [
    "## Q2. Vector Search Index の作成(標準時間：10分)"
   ]
  },
  {
   "cell_type": "markdown",
   "metadata": {
    "application/vnd.databricks.v1+cell": {
     "cellMetadata": {},
     "inputWidgets": {},
     "nuid": "4eff2f87-845a-418b-a022-294f4893005e",
     "showTitle": false,
     "tableResultSettingsMap": {},
     "title": ""
    }
   },
   "source": [
    "### ベクトル検索とは\n",
    "![ベクトル検索とは](/Workspace/Users/shotaro.kotani@nssoldlp.onmicrosoft.com/openhack2025/contents_with_answer/dev_shotkotani/data/img/vector_index.png)\n",
    "\n",
    "この画像は、ベクトル検索の概念をわかりやすく表現しています。\n",
    "\n",
    "*   **ベクトル表現（赤い点）:** 各赤い点は、特定のデータオブジェクト（例えば、画像、テキストドキュメント）のベクトル表現を表しています。ディープラーニングモデルなどの手法を用いて、データオブジェクトはその意味や内容に基づいて数値ベクトルに変換されます。\n",
    "*   **クラスタリング:** 同様のデータオブジェクトは、多次元空間内で互いに近い位置に集まり、クラスタを形成します。画像の例では、「Dogs」と「Cat」のアイコンで示されたクラスタが、犬と猫の画像に対応しています。\n",
    "*   **クエリベクトル（青い点）:** 「find me all cats」というテキストのクエリは、同様にベクトルに変換され、多次元空間内の青い点で表されます。\n",
    "*   **類似度検索:** ベクトル検索では、クエリベクトルに最も近いデータベクトルを見つけます。画像では、青い点から猫のクラスタ内の赤い点への線が、この類似度を示しています。\n",
    "\n",
    "Databricks Vector Searchにおいて、インデックスとエンドポイントは以下のように異なる役割を持っています:\n",
    "\n",
    "\n",
    "### Index (インデックス)\n",
    "\n",
    "- Vector Searchインデックスは、データのベクトル表現の集合です。\n",
    "- 効率的な近似最近傍検索クエリをサポートします。\n",
    "- ソースのDeltaテーブルの特定のカラムから作成されます。\n",
    "- Unity Catalog内でテーブルのようなオブジェクトとして表示されます。\n",
    "\n",
    "### Endpoint (エンドポイント)\n",
    "\n",
    "- Vector Searchエンドポイントは、インデックスが存在するエンティティです。\n",
    "- 検索リクエストを処理するためのエントリーポイントとして機能します。\n",
    "- 複数のインデックスを含むことができます。\n",
    "- インデックスのサイズや並列リクエストの数に応じて自動的にスケールします。\n",
    "- REST APIやSDKを使用してクエリや更新に利用できます。\n",
    "\n",
    "\n",
    "Vector Searchを使用する際は、まずエンドポイントを作成し、その後そのエンドポイント内に1つ以上のインデックスを作成します。エンドポイントはインデックスを管理し、クエリ処理のためのアクセスポイントとして機能します。\n",
    "\n",
    "インデックスに格納されているデータのベクトル表現とエンドポイントは以下のように確認することができます。"
   ]
  },
  {
   "cell_type": "code",
   "execution_count": 0,
   "metadata": {
    "application/vnd.databricks.v1+cell": {
     "cellMetadata": {
      "byteLimit": 2048000,
      "rowLimit": 10000
     },
     "inputWidgets": {},
     "nuid": "b506b2df-0301-429b-b668-8f2c7142258a",
     "showTitle": false,
     "tableResultSettingsMap": {},
     "title": ""
    }
   },
   "outputs": [],
   "source": [
    "import mlflow.deployments\n",
    "\n",
    "# Databricks のデプロイメントクライアントを取得\n",
    "deploy_client = mlflow.deployments.get_deploy_client(\"databricks\")\n",
    "\n",
    "# OpenAI の text-embedding-ada-002 を使用（エンベディング生成）を実行\n",
    "# エンドポイント \"openhack-text-embedding-ada-002\" に対して、\"What is Apache Spark?\" という入力テキストを渡す\n",
    "response = deploy_client.predict(\n",
    "    endpoint=\"openhack-text-embedding-ada-002\",\n",
    "    inputs={\"input\": [\"Apache Spark とはなんでしょう?\"]}\n",
    ")\n",
    "\n",
    "# 結果を取得\n",
    "embeddings = [e[\"embedding\"] for e in response.data]\n",
    "print(embeddings)"
   ]
  },
  {
   "cell_type": "code",
   "execution_count": 0,
   "metadata": {
    "application/vnd.databricks.v1+cell": {
     "cellMetadata": {
      "byteLimit": 2048000,
      "rowLimit": 10000
     },
     "inputWidgets": {},
     "nuid": "0ca803d6-f587-4a5c-b86a-ad93ba75eefb",
     "showTitle": false,
     "tableResultSettingsMap": {},
     "title": ""
    }
   },
   "outputs": [],
   "source": [
    "from databricks.vector_search.client import VectorSearchClient\n",
    "vsc = VectorSearchClient()\n",
    "VECTOR_SEARCH_ENDPOINT_NAME = \"vs_endpoint\"\n",
    "\n",
    "# Vector Searchエンドポイントの作成には10分～15分ほどかかります。 本日は時間がないので、作成済みのエンドポイントを利用します。\n",
    "# vsc.create_endpoint_and_wait(\"openhack-text-embedding-ada-002\", VECOTR_SEARCH_ENDPOINT_NAME)\n",
    "\n",
    "# 作成済みのエンドポイント\n",
    "vsc.list_endpoints()"
   ]
  },
  {
   "cell_type": "markdown",
   "metadata": {
    "application/vnd.databricks.v1+cell": {
     "cellMetadata": {},
     "inputWidgets": {},
     "nuid": "bfd4fffb-1106-4c4b-9e69-88a4c7fe7190",
     "showTitle": false,
     "tableResultSettingsMap": {},
     "title": ""
    }
   },
   "source": [
    "### ToDo: `product_documentation_vs`インデックスを作成する\n",
    "Databricks Vector SearchでUnity CatalogのUIを使用して、`product_documentation`テーブルをソースとして、`product_documentation_vs`という名前のVector Indexを作成する手順は以下の通りです。\n",
    "\n",
    "<img src=\"https://github.com/databricks-demos/dbdemos-resources/blob/main/images/index_creation.gif?raw=true\" width=\"600px\" style=\"float: right\">\n",
    "\n",
    "\n",
    "**手順:**\n",
    "\n",
    "1.  **Unity Catalogへのアクセス:**\n",
    "\n",
    "    *   Databricksワークスペースにログインします。\n",
    "    *   サイドバーの「カタログ」をクリックし、Unity Catalogを開きます。\n",
    "\n",
    "2.  **テーブルの選択:**\n",
    "\n",
    "    *   必要なカタログとスキーマを選択して、`product_documentation`テーブルを見つけます。\n",
    "    *   `product_documentation`テーブルをクリックして、詳細を表示します。\n",
    "\n",
    "3.  **Vector Indexの作成:**\n",
    "\n",
    "    *   画面右上の「作成」タブで、「ベクトル検索インデックス」タブを選択します。(もしこのタブが表示されていない場合、DatabricksアカウントでVector Searchが有効になっていることを確認してください。)\n",
    "    *   「Create Vector Index」ボタンをクリックします。\n",
    "\n",
    "4.  **Vector Indexの設定:**\n",
    "\n",
    "    *   **名前:**  `product_documentation_vs`と入力します。\n",
    "    *   **プライマリーキー (オプション):** 主キーとして使用する列を選択します。`id`と入力します。\n",
    "    *   **エンドポイント:** リアルタイム同期またはバッチ同期を選択します。`vs_endpoint`を選択します。\n",
    "    *   **同期する列:** インデックスに同期する列を選択します。`filename`と`content`を選択します。\n",
    "    *   **ソース埋め込み:** 今回は文字列をインプットとして埋め込み関数を使用して埋め込み列を作成するため`コンピュート埋め込み`を選択します。`既存の埋め込み列を使用`を選択すると、ユーザー側で埋め込みを計算した列を同期します。\n",
    "    *   **埋め込みモデル:** 使用する埋め込み関数を選択します。Databricksが提供する関数またはカスタムUDFを使用できます。Azure OpenAI Serviceを登録したサービングエンドポイントの`openhack-text-embedding-ada-002`を選択します。\n",
    "    *   **同期モード:** 今回はバッチ同期を選択します。要件に合わせて選択してください。\n",
    "\n",
    "5.  **Vector Indexのデプロイ:**\n",
    "\n",
    "    *   設定を確認し、「作成」ボタンをクリックします。\n",
    "    *   Vector Indexの作成プロセスが開始されます。ステータスはUIで監視できます。"
   ]
  },
  {
   "cell_type": "code",
   "execution_count": 0,
   "metadata": {
    "application/vnd.databricks.v1+cell": {
     "cellMetadata": {
      "byteLimit": 2048000,
      "rowLimit": 10000
     },
     "inputWidgets": {},
     "nuid": "42611db0-b8eb-4ffe-b32a-e69ced7caaf9",
     "showTitle": false,
     "tableResultSettingsMap": {},
     "title": ""
    }
   },
   "outputs": [],
   "source": [
    "# インデックスの作成を確認\n",
    "VECTOR_SEARCH_INDEX_NAME = \"product_documentation_vs\"\n",
    "vs_index_fullname = f\"{catalog_name}.{schema_name}.{VECTOR_SEARCH_INDEX_NAME}\"\n",
    "\n",
    "index = vsc.get_index(VECTOR_SEARCH_ENDPOINT_NAME, vs_index_fullname)\n",
    "index.describe()"
   ]
  },
  {
   "cell_type": "code",
   "execution_count": 0,
   "metadata": {
    "application/vnd.databricks.v1+cell": {
     "cellMetadata": {
      "byteLimit": 2048000,
      "rowLimit": 10000
     },
     "inputWidgets": {},
     "nuid": "f057dd91-8c26-4824-b219-21813ef4e26b",
     "showTitle": false,
     "tableResultSettingsMap": {},
     "title": ""
    }
   },
   "outputs": [],
   "source": [
    "# 類似コンテンツの検索\n",
    "question = \"バッテリー交換\"\n",
    "\n",
    "results = index.similarity_search(\n",
    "  query_text=question,\n",
    "  columns=[\"filename\", \"content\"],\n",
    "  num_results=3)\n",
    "docs = results.get('result', {}).get('data_array', [])\n",
    "docs"
   ]
  },
  {
   "cell_type": "markdown",
   "metadata": {
    "application/vnd.databricks.v1+cell": {
     "cellMetadata": {},
     "inputWidgets": {},
     "nuid": "880ed8be-98f1-4bf1-b1f8-e44bb2d1d801",
     "showTitle": false,
     "tableResultSettingsMap": {},
     "title": ""
    }
   },
   "source": [
    "## Q3. Vector Search のツール化とアクセス制御(標準時間：10分)"
   ]
  },
  {
   "cell_type": "markdown",
   "metadata": {
    "application/vnd.databricks.v1+cell": {
     "cellMetadata": {},
     "inputWidgets": {},
     "nuid": "74184e7d-bc48-4c1c-aef0-e94cf50ff5e1",
     "showTitle": false,
     "tableResultSettingsMap": {},
     "title": ""
    }
   },
   "source": [
    "### 実践例\n",
    "Databricks Unity Catalog ではよく使うクエリを関数としてスキーマに登録することができます。\n",
    "スキーマに登録された関数は AI Agent の部品(`UCFunctionToolkit`) として簡単に呼び出すことができます。\n",
    "\n",
    "以下の例では、 Ringo Computer のサポート部門に寄せられたケースのうち、緊急に処理すべき新規ケースを抽出する関数を Unity Catalog へ登録しています。\n",
    "\n",
    "登録が完了したら実際にカタログで確認してみましょう！\n"
   ]
  },
  {
   "cell_type": "code",
   "execution_count": 0,
   "metadata": {
    "application/vnd.databricks.v1+cell": {
     "cellMetadata": {
      "byteLimit": 2048000,
      "implicitDf": true,
      "rowLimit": 10000
     },
     "inputWidgets": {},
     "nuid": "973114a3-0716-4054-a634-da57f09f0b9d",
     "showTitle": false,
     "tableResultSettingsMap": {},
     "title": ""
    }
   },
   "outputs": [],
   "source": [
    "%sql\n",
    "CREATE SCHEMA IF NOT EXISTS common;"
   ]
  },
  {
   "cell_type": "code",
   "execution_count": 0,
   "metadata": {
    "application/vnd.databricks.v1+cell": {
     "cellMetadata": {
      "byteLimit": 2048000,
      "implicitDf": true,
      "rowLimit": 10000
     },
     "inputWidgets": {},
     "nuid": "e39b6569-5326-46b0-88ef-52b218922f99",
     "showTitle": false,
     "tableResultSettingsMap": {},
     "title": ""
    }
   },
   "outputs": [],
   "source": [
    "create_func = f\"\"\"\n",
    "CREATE OR REPLACE FUNCTION {catalog_name}.common.get_high_priority_new_cases()\n",
    "RETURNS TABLE (\n",
    "  CaseNumber STRING,\n",
    "  SuppliedName STRING,\n",
    "  SuppliedEmail STRING,\n",
    "  SuppliedPhone STRING,\n",
    "  SuppliedCompany STRING,\n",
    "  Type STRING,\n",
    "  Status STRING,\n",
    "  Subject STRING,\n",
    "  Description STRING\n",
    ")\n",
    "COMMENT 'この関数は、優先順位の高い新規ケースをケース・テーブルから検索する。'\n",
    "RETURN\n",
    "  SELECT CaseNumber, SuppliedName, SuppliedEmail, SuppliedPhone, SuppliedCompany, Type, Status, Subject, Description \n",
    "  FROM trainer_catalog.`03_data_analysis_by_gen_ai_for_shotkotani`.case\n",
    "  WHERE Status = \"新規\" AND Priority = \"高\" AND Type = \"問い合わせ\"\n",
    "  ORDER BY CaseNumber DESC\n",
    "  LIMIT 1;\n",
    "\"\"\"\n",
    "\n",
    "spark.sql(create_func)"
   ]
  },
  {
   "cell_type": "code",
   "execution_count": 0,
   "metadata": {
    "application/vnd.databricks.v1+cell": {
     "cellMetadata": {
      "byteLimit": 2048000,
      "implicitDf": true,
      "rowLimit": 10000
     },
     "inputWidgets": {},
     "nuid": "2fb3c23e-4f55-439f-a651-e7887b94543b",
     "showTitle": false,
     "tableResultSettingsMap": {},
     "title": ""
    }
   },
   "outputs": [],
   "source": [
    "%sql\n",
    "-- 登録した関数を呼び出します\n",
    "USE SCHEMA common;\n",
    "SELECT * FROM get_high_priority_new_cases();"
   ]
  },
  {
   "cell_type": "code",
   "execution_count": 0,
   "metadata": {
    "application/vnd.databricks.v1+cell": {
     "cellMetadata": {
      "byteLimit": 2048000,
      "rowLimit": 10000
     },
     "collapsed": true,
     "inputWidgets": {},
     "nuid": "ac7ec571-9846-41e2-939e-1d316db67270",
     "showTitle": false,
     "tableResultSettingsMap": {},
     "title": ""
    }
   },
   "outputs": [],
   "source": [
    "from unitycatalog.ai.core.databricks import DatabricksFunctionClient\n",
    "import pandas as pd\n",
    "import io\n",
    "\n",
    "# ケースを取得する関数のフルパス\n",
    "case_func_fullname = f\"{catalog_name}.{schema_name}.get_high_priority_new_cases\"\n",
    "\n",
    "# DatabricksFunctionClientから関数呼び出し\n",
    "client = DatabricksFunctionClient()\n",
    "result = client.execute_function(case_func_fullname)\n",
    "\n",
    "# 検索結果のPandas DataFrameによるパース\n",
    "df = pd.read_csv(io.StringIO(result.value))\n",
    "display(df)"
   ]
  },
  {
   "cell_type": "markdown",
   "metadata": {
    "application/vnd.databricks.v1+cell": {
     "cellMetadata": {},
     "inputWidgets": {},
     "nuid": "3f71c19a-8122-4a4d-8a6d-1439ff4b2f91",
     "showTitle": false,
     "tableResultSettingsMap": {},
     "title": ""
    }
   },
   "source": [
    "### ToDo: Vector Search を行う関数`manual_retriever`をカタログへ登録する\n",
    "Hint: [ドキュメント](https://docs.databricks.com/aws/ja/generative-ai/agent-framework/unstructured-retrieval-tools#unity-catalog%E6%A9%9F%E8%83%BD%E3%82%92%E6%8C%81%E3%81%A4%E3%83%99%E3%82%AF%E3%83%88%E3%83%AB%E6%A4%9C%E7%B4%A2%E3%83%AC%E3%83%88%E3%83%AA%E3%83%BC%E3%83%90%E3%83%BC%E3%83%84%E3%83%BC%E3%83%AB)  を参考にカタログへベクトル検索関数を登録しましょう"
   ]
  },
  {
   "cell_type": "code",
   "execution_count": 0,
   "metadata": {
    "application/vnd.databricks.v1+cell": {
     "cellMetadata": {
      "byteLimit": 2048000,
      "rowLimit": 10000
     },
     "inputWidgets": {},
     "nuid": "0fb14fb3-b9d0-46d3-a654-90e7ab7bec60",
     "showTitle": false,
     "tableResultSettingsMap": {},
     "title": ""
    }
   },
   "outputs": [],
   "source": [
    "create_retriever = f\"\"\"\n",
    "CREATE OR REPLACE FUNCTION {catalog_name}.common.manual_retriever (\n",
    "  query STRING\n",
    "  COMMENT 'The query string for searching our product documentation.'\n",
    ") RETURNS TABLE\n",
    "COMMENT 'Executes a search on product documentation to retrieve text documents most relevant to the input query.' RETURN\n",
    "SELECT\n",
    "  id as id,\n",
    "  content\n",
    "FROM\n",
    "  vector_search(\n",
    "    index => '{vs_index_fullname}',\n",
    "    query => query,\n",
    "    num_results => 3\n",
    "  )\n",
    "\"\"\"\n",
    "\n",
    "spark.sql(create_retriever)"
   ]
  },
  {
   "cell_type": "code",
   "execution_count": 0,
   "metadata": {
    "application/vnd.databricks.v1+cell": {
     "cellMetadata": {
      "byteLimit": 2048000,
      "rowLimit": 10000
     },
     "inputWidgets": {},
     "nuid": "1869bfc8-a591-43e7-a456-c146743300c9",
     "showTitle": false,
     "tableResultSettingsMap": {},
     "title": ""
    }
   },
   "outputs": [],
   "source": [
    "import mlflow\n",
    "from databricks_langchain import VectorSearchRetrieverTool\n",
    "\n",
    "vs_tool = VectorSearchRetrieverTool(\n",
    "  index_name=vs_index_fullname,\n",
    "  tool_name=\"manual_retriever\",\n",
    "  tool_description=\"Ringo Computerの製品マニュアルを検索するツールです\"\n",
    ")\n",
    "\n",
    "vs_tool.invoke(\"バッテリー交換\")"
   ]
  },
  {
   "cell_type": "code",
   "execution_count": 0,
   "metadata": {
    "application/vnd.databricks.v1+cell": {
     "cellMetadata": {},
     "inputWidgets": {},
     "nuid": "2248b5a4-d943-430c-a0bf-aa717f788871",
     "showTitle": false,
     "tableResultSettingsMap": {},
     "title": ""
    }
   },
   "outputs": [],
   "source": []
  }
 ],
 "metadata": {
  "application/vnd.databricks.v1+notebook": {
   "computePreferences": null,
   "dashboards": [],
   "environmentMetadata": {
    "base_environment": "",
    "environment_version": "2"
   },
   "language": "python",
   "notebookMetadata": {
    "mostRecentlyExecutedCommandWithImplicitDF": {
     "commandId": 4774529109333575,
     "dataframes": [
      "_sqldf"
     ]
    },
    "pythonIndentUnit": 4
   },
   "notebookName": "05_product_manual_search",
   "widgets": {}
  },
  "language_info": {
   "name": "python"
  }
 },
 "nbformat": 4,
 "nbformat_minor": 0
}
