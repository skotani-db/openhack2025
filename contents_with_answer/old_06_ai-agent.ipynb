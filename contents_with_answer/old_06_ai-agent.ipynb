{
 "cells": [
  {
   "cell_type": "code",
   "execution_count": 0,
   "metadata": {
    "application/vnd.databricks.v1+cell": {
     "cellMetadata": {
      "byteLimit": 2048000,
      "rowLimit": 10000
     },
     "inputWidgets": {},
     "nuid": "00dc6178-cebe-426a-8f47-58320390b7dc",
     "showTitle": true,
     "tableResultSettingsMap": {},
     "title": "ライブラリのインストール"
    }
   },
   "outputs": [],
   "source": [
    "%pip install -U -qqqq mlflow unitycatalog-ai[databricks] databricks-langchain"
   ]
  },
  {
   "cell_type": "markdown",
   "metadata": {
    "application/vnd.databricks.v1+cell": {
     "cellMetadata": {
      "byteLimit": 2048000,
      "rowLimit": 10000
     },
     "inputWidgets": {},
     "nuid": "41676b50-d329-47a2-873b-a5a0c1d72689",
     "showTitle": false,
     "tableResultSettingsMap": {},
     "title": ""
    }
   },
   "source": [
    "**重要** このノートブックで開発やテストを行う際には、次のセルのコードが必要です。  \n",
    "ドライバーノートブックからこのノートブックを実行する場合は、次のセルの行をコメントアウトする必要があります。"
   ]
  },
  {
   "cell_type": "code",
   "execution_count": 0,
   "metadata": {
    "application/vnd.databricks.v1+cell": {
     "cellMetadata": {
      "byteLimit": 2048000,
      "rowLimit": 10000
     },
     "inputWidgets": {},
     "nuid": "1c9cb30c-19b0-4210-9aa9-936c98ad548c",
     "showTitle": false,
     "tableResultSettingsMap": {},
     "title": ""
    }
   },
   "outputs": [],
   "source": [
    "# dbutils.library.restartPython()"
   ]
  },
  {
   "cell_type": "code",
   "execution_count": 0,
   "metadata": {
    "application/vnd.databricks.v1+cell": {
     "cellMetadata": {
      "byteLimit": 2048000,
      "rowLimit": 10000
     },
     "inputWidgets": {},
     "nuid": "4ac28d52-a612-4dc8-a45f-f7e62743411d",
     "showTitle": true,
     "tableResultSettingsMap": {},
     "title": "必要なライブラリのインポート"
    }
   },
   "outputs": [],
   "source": [
    "# 必要なライブラリのインポート\n",
    "import os\n",
    "import mlflow\n",
    "import json\n",
    "\n",
    "from databricks_langchain import DatabricksVectorSearch\n",
    "from langchain_community.chat_models.databricks import ChatDatabricks\n",
    "from langchain_core.prompts import PromptTemplate\n",
    "from unitycatalog.ai.langchain.toolkit import UCFunctionToolkit\n",
    "from unitycatalog.ai.core.databricks import DatabricksFunctionClient"
   ]
  },
  {
   "cell_type": "markdown",
   "metadata": {
    "application/vnd.databricks.v1+cell": {
     "cellMetadata": {
      "byteLimit": 2048000,
      "rowLimit": 10000
     },
     "inputWidgets": {},
     "nuid": "e54cc1f2-d971-4c6f-a319-0089a9502b6a",
     "showTitle": false,
     "tableResultSettingsMap": {},
     "title": ""
    }
   },
   "source": [
    "### MLflow Tracingを有効にする\n",
    "以下のような場合は、MLflow Tracingを有効にします。\n",
    "- このノートブックでトレースの視覚化を表示する\n",
    "- 推論テーブルを使用して本番環境でトレースをキャプチャする\n",
    "- アプリケーションを評価する"
   ]
  },
  {
   "cell_type": "code",
   "execution_count": 0,
   "metadata": {
    "application/vnd.databricks.v1+cell": {
     "cellMetadata": {
      "byteLimit": 2048000,
      "rowLimit": 10000
     },
     "inputWidgets": {},
     "nuid": "a56465dd-4158-4182-b524-5a42392d7bdf",
     "showTitle": true,
     "tableResultSettingsMap": {},
     "title": "MLflowトレースの有効化"
    }
   },
   "outputs": [],
   "source": [
    "mlflow.langchain.autolog()"
   ]
  },
  {
   "cell_type": "markdown",
   "metadata": {
    "application/vnd.databricks.v1+cell": {
     "cellMetadata": {
      "byteLimit": 2048000,
      "rowLimit": 10000
     },
     "inputWidgets": {},
     "nuid": "78b0a694-0baf-4968-bcfc-5db8cd52a780",
     "showTitle": false,
     "tableResultSettingsMap": {},
     "title": ""
    }
   },
   "source": [
    "### 1. Databricks Vector Search を利用した RAG の retrieve \n",
    "DatabricksVectorSearch のインスタンスを作成  \n",
    "[参考URL](https://python.langchain.com/docs/integrations/vectorstores/databricks_vector_search/)\n"
   ]
  },
  {
   "cell_type": "code",
   "execution_count": 0,
   "metadata": {
    "application/vnd.databricks.v1+cell": {
     "cellMetadata": {
      "byteLimit": 2048000,
      "rowLimit": 10000
     },
     "inputWidgets": {},
     "nuid": "e6f5fb94-976f-4747-a2df-2856f2b2aac1",
     "showTitle": false,
     "tableResultSettingsMap": {},
     "title": ""
    }
   },
   "outputs": [],
   "source": [
    "db_vector_search = DatabricksVectorSearch(\n",
    "    endpoint=\"vs_endpoint\",\n",
    "    index_name=\"trainer_catalog.05_vector_search_index_for_nssol.product_documentation_vs_index\",\n",
    ")\n",
    "\n",
    "def retrieve_manual_sections(query: str) -> str:\n",
    "    \"\"\"\n",
    "    ユーザーの問い合わせをもとに、Vector Search マニュアルの関連セクションを取得します。\n",
    "    \"\"\"\n",
    "    docs = db_vector_search.similarity_search(query, k=3)\n",
    "    sections = \"\\n\".join([doc.page_content for doc in docs])\n",
    "    return sections if sections else \"適切なセクションが見つかりませんでした。\""
   ]
  },
  {
   "cell_type": "markdown",
   "metadata": {
    "application/vnd.databricks.v1+cell": {
     "cellMetadata": {
      "byteLimit": 2048000,
      "rowLimit": 10000
     },
     "inputWidgets": {},
     "nuid": "b03ac4c9-ca46-4f2f-81d7-e59c9372f59a",
     "showTitle": false,
     "tableResultSettingsMap": {},
     "title": ""
    }
   },
   "source": [
    "### 2. Unity Catalog の関数を利用して製品情報を取得\n",
    "\n",
    "ここでは、事前に Unity Catalog に登録済みの関数を利用する定義を行います。  \n",
    "\"openhack2025.04_ai_agent_for_demo.product_with_many_inquiries\" 関る鵜を利用します。\n"
   ]
  },
  {
   "cell_type": "code",
   "execution_count": 0,
   "metadata": {
    "application/vnd.databricks.v1+cell": {
     "cellMetadata": {
      "byteLimit": 2048000,
      "rowLimit": 10000
     },
     "inputWidgets": {},
     "nuid": "7de27971-5786-4dff-9c78-ab0996d92e94",
     "showTitle": false,
     "tableResultSettingsMap": {},
     "title": ""
    }
   },
   "outputs": [],
   "source": [
    "# catalog = \"openhack2025\"\n",
    "# db_name = \"04_ai_agent_for_demo\"\n",
    "# warehouse_id = \"12a4cd99e4b901b6\"\n",
    "func_name = \"trainer_catalog.03_data_analysis_by_gen_ai_for_nssol.product_with_many_inquiries\""
   ]
  },
  {
   "cell_type": "markdown",
   "metadata": {
    "application/vnd.databricks.v1+cell": {
     "cellMetadata": {},
     "inputWidgets": {},
     "nuid": "07baa9ce-7a7a-43d9-9bf1-851f1ad16aa2",
     "showTitle": false,
     "tableResultSettingsMap": {},
     "title": ""
    }
   },
   "source": [
    "AI Functionを作る処理を説明。"
   ]
  },
  {
   "cell_type": "code",
   "execution_count": 0,
   "metadata": {
    "application/vnd.databricks.v1+cell": {
     "cellMetadata": {
      "byteLimit": 2048000,
      "rowLimit": 10000
     },
     "inputWidgets": {},
     "nuid": "2934d0db-611e-40da-bb08-bb626c823adc",
     "showTitle": false,
     "tableResultSettingsMap": {},
     "title": ""
    }
   },
   "outputs": [],
   "source": [
    "# Databricks Function クライアントの作成\n",
    "client = DatabricksFunctionClient()\n",
    "\n",
    "# UCFunctionToolkit を利用して、Unity Catalog 関数をツールとして登録\n",
    "toolkit = UCFunctionToolkit(\n",
    "    function_names=[func_name],\n",
    "    client=client\n",
    ")\n",
    "\n",
    "# 登録されたツールから対象の関数を取得\n",
    "product_info_function = toolkit.tools[0]\n",
    "\n",
    "def get_product_info(query: str) -> str:\n",
    "    \"\"\"\n",
    "    ユーザーの問い合わせを引数として Unity Catalog に登録された関数を呼び出し、\n",
    "    問い合わせの多い製品情報を取得します。\n",
    "    \"\"\"\n",
    "    try:\n",
    "        result = product_info_function.run(query)\n",
    "        return result\n",
    "    except Exception as e:\n",
    "        return f\"Error calling product info function: {str(e)}\""
   ]
  },
  {
   "cell_type": "markdown",
   "metadata": {
    "application/vnd.databricks.v1+cell": {
     "cellMetadata": {
      "byteLimit": 2048000,
      "rowLimit": 10000
     },
     "inputWidgets": {},
     "nuid": "db3975ba-8295-4af2-bf08-d9207b0cc71e",
     "showTitle": false,
     "tableResultSettingsMap": {},
     "title": ""
    }
   },
   "source": [
    "### 3. LLM を利用した回答生成（ChatDatabricks の利用）"
   ]
  },
  {
   "cell_type": "code",
   "execution_count": 0,
   "metadata": {
    "application/vnd.databricks.v1+cell": {
     "cellMetadata": {
      "byteLimit": 2048000,
      "rowLimit": 10000
     },
     "inputWidgets": {},
     "nuid": "89281d2d-db6b-4603-b661-fd51d5bea601",
     "showTitle": true,
     "tableResultSettingsMap": {},
     "title": "LLMの初期化"
    }
   },
   "outputs": [],
   "source": [
    "# LLMの初期化\n",
    "llm = ChatDatabricks(\n",
    "    endpoint=\"openhack-gpt-4o\",  # エンドポイントは環境に合わせて設定\n",
    "    temperature=0.0,\n",
    "    streaming=True\n",
    ")"
   ]
  },
  {
   "cell_type": "code",
   "execution_count": 0,
   "metadata": {
    "application/vnd.databricks.v1+cell": {
     "cellMetadata": {
      "byteLimit": 2048000,
      "rowLimit": 10000
     },
     "inputWidgets": {},
     "nuid": "98c9b96d-5ae5-4af3-a497-691195c9f16a",
     "showTitle": false,
     "tableResultSettingsMap": {},
     "title": ""
    }
   },
   "outputs": [],
   "source": [
    "# プロンプトテンプレート：ユーザーの問い合わせ、製品情報、マニュアルセクションを統合\n",
    "prompt = PromptTemplate(\n",
    "    template=\"\"\"\n",
    "あなたは取扱製品の問い合わせ対応ナレッジを持つ、高度なアシスタントです。 問い合わせに対する調査や対応方針の提案を行います。\n",
    "回答にあたっては、以下のツールを適切に使ってください：\n",
    "\n",
    "User Query: {user_query}\n",
    "\n",
    "Product Information (from Unity Catalog function):\n",
    "{product_info}\n",
    "\n",
    "Relevant Manual Sections (from Vector Search):\n",
    "{manual_sections}\n",
    "\n",
    "分からない場合は分からない旨を回答してください。\n",
    "また、日本語で回答してください。\n",
    "\"\"\",\n",
    "    input_variables=[\"user_query\", \"product_info\", \"manual_sections\"]\n",
    ")\n"
   ]
  },
  {
   "cell_type": "code",
   "execution_count": 0,
   "metadata": {
    "application/vnd.databricks.v1+cell": {
     "cellMetadata": {
      "byteLimit": 2048000,
      "rowLimit": 10000
     },
     "inputWidgets": {},
     "nuid": "21853747-3eee-4b8b-abb0-bbc9b060dc0b",
     "showTitle": false,
     "tableResultSettingsMap": {},
     "title": ""
    }
   },
   "outputs": [],
   "source": [
    "def rag_agent(user_query: str) -> str:\n",
    "    \"\"\"\n",
    "    RAG パイプライン：Vector Search と Unity Catalog 関数を利用して情報を取得し、LLM による回答を生成します。\n",
    "    \"\"\"\n",
    "    # 1. 修理マニュアルの関連セクションを取得\n",
    "    manual_sections = retrieve_manual_sections(user_query)\n",
    "    \n",
    "    # 2. 問い合わせの多い製品情報を取得\n",
    "    product_info = get_product_info(user_query)\n",
    "    \n",
    "    # 3. プロンプトに情報を統合\n",
    "    full_prompt = prompt.format(\n",
    "        user_query=user_query,\n",
    "        product_info=product_info,\n",
    "        manual_sections=manual_sections\n",
    "    )\n",
    "    # 4. LLM にプロンプトを渡して回答を生成\n",
    "    response = llm.invoke(full_prompt)\n",
    "\n",
    "    # response がオブジェクトの場合、content 属性を返す\n",
    "    if hasattr(response, \"content\"):\n",
    "        return response.content\n",
    "    \n",
    "    # もしくは辞書の場合\n",
    "    if isinstance(response, dict) and \"content\" in response:\n",
    "        return response[\"content\"]\n",
    "    # それ以外はそのまま返す\n",
    "    return response"
   ]
  },
  {
   "cell_type": "code",
   "execution_count": 0,
   "metadata": {
    "application/vnd.databricks.v1+cell": {
     "cellMetadata": {
      "byteLimit": 2048000,
      "rowLimit": 10000
     },
     "inputWidgets": {},
     "nuid": "094ad443-830b-4d50-b62c-9110adebec9c",
     "showTitle": false,
     "tableResultSettingsMap": {},
     "title": ""
    }
   },
   "outputs": [],
   "source": [
    "def extract_latest_user_message(messages):\n",
    "    \"\"\"\n",
    "    会話履歴から、ユーザーの最新の発話を抽出します。\n",
    "    \"\"\"\n",
    "    # 逆順に検索して、最初に見つかったユーザーメッセージを返す\n",
    "    for msg in reversed(messages):\n",
    "        if msg.get(\"role\") == \"user\":\n",
    "            return msg.get(\"content\", \"\")\n",
    "    return \"\"\n",
    "\n",
    "def conversation_agent(messages):\n",
    "    \"\"\"\n",
    "    会話履歴（メッセージのリスト）を入力として受け取り、最新のユーザー発話を使って\n",
    "    rag_agent（先ほど定義したRAGパイプライン）を呼び出します。\n",
    "    \"\"\"\n",
    "    user_query = extract_latest_user_message(messages)\n",
    "    return rag_agent(user_query)"
   ]
  },
  {
   "cell_type": "code",
   "execution_count": 0,
   "metadata": {
    "application/vnd.databricks.v1+cell": {
     "cellMetadata": {
      "byteLimit": 2048000,
      "rowLimit": 10000
     },
     "inputWidgets": {},
     "nuid": "6ac16bb5-a7e2-4834-9874-8c88f9fee8ff",
     "showTitle": false,
     "tableResultSettingsMap": {},
     "title": ""
    }
   },
   "outputs": [],
   "source": [
    "# ===============================================\n",
    "# 4. 実行例（デモ）\n",
    "# ===============================================\n",
    "if __name__ == \"__main__\":\n",
    "    # 会話履歴の例（システムメッセージやユーザーメッセージを含む）\n",
    "    conversation = [\n",
    "        {\"role\": \"system\", \"content\": \"あなたはインテリジェントなアシスタントです。\"},\n",
    "        {\"role\": \"user\", \"content\": \"問い合わせの多い製品の修理手順を教えてください。\"}\n",
    "    ]\n",
    "    # user_query = \"問い合わせの多い製品の修理手順を教えてください。\"\n",
    "    # answer = rag_agent(user_query)\n",
    "    answer = conversation_agent(conversation)\n",
    "\n",
    "    # シンプルなテキストとして出力\n",
    "    print(\"AI Agent Answer (Text):\")\n",
    "    print(answer)\n",
    "    \n",
    "    # # JSON 形式として出力する場合\n",
    "    # json_output = json.dumps({\"answer\": answer}, ensure_ascii=False, indent=2)\n",
    "    # print(\"\\nAI Agent Answer (JSON):\")\n",
    "    # print(json_output)\n",
    "    \n",
    "    # オプション：MLflow によるトレーシング（必要に応じて）\n",
    "    "
   ]
  },
  {
   "cell_type": "code",
   "execution_count": 0,
   "metadata": {
    "application/vnd.databricks.v1+cell": {
     "cellMetadata": {
      "byteLimit": 2048000,
      "rowLimit": 10000
     },
     "inputWidgets": {},
     "nuid": "00b482e7-e007-411b-bba8-316f78706422",
     "showTitle": false,
     "tableResultSettingsMap": {},
     "title": ""
    }
   },
   "outputs": [],
   "source": [
    "mlflow.models.set_model(model=llm)"
   ]
  }
 ],
 "metadata": {
  "application/vnd.databricks.v1+notebook": {
   "computePreferences": null,
   "dashboards": [],
   "environmentMetadata": null,
   "language": "python",
   "notebookMetadata": {
    "mostRecentlyExecutedCommandWithImplicitDF": {
     "commandId": 6636754392320912,
     "dataframes": [
      "_sqldf"
     ]
    },
    "pythonIndentUnit": 2
   },
   "notebookName": "old_06_ai-agent",
   "widgets": {}
  },
  "language_info": {
   "name": "python"
  }
 },
 "nbformat": 4,
 "nbformat_minor": 0
}
