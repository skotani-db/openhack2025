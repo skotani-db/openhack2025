{
 "cells": [
  {
   "cell_type": "markdown",
   "metadata": {
    "application/vnd.databricks.v1+cell": {
     "cellMetadata": {},
     "inputWidgets": {},
     "nuid": "a090f25d-669d-47d2-9527-1fb2e0265f58",
     "showTitle": false,
     "tableResultSettingsMap": {},
     "title": ""
    }
   },
   "source": [
    "# Databricks の Mosaic AI Agent Framework を利用した AI エージェントの構築\n",
    "ここからは、Databricks の Mosaic AI Agent Framework を利用した AI エージェントの構築を行います。"
   ]
  },
  {
   "cell_type": "markdown",
   "metadata": {
    "application/vnd.databricks.v1+cell": {
     "cellMetadata": {},
     "inputWidgets": {},
     "nuid": "41bdabd0-5e44-4d26-82f8-e107bfc9ee2f",
     "showTitle": false,
     "tableResultSettingsMap": {},
     "title": ""
    }
   },
   "source": [
    "### Mosaic AI Agent Framework を利用した AI エージェント作成の流れ"
   ]
  },
  {
   "cell_type": "markdown",
   "metadata": {
    "application/vnd.databricks.v1+cell": {
     "cellMetadata": {},
     "inputWidgets": {},
     "nuid": "887a05ea-b7e2-4c9d-afb8-9a41c23c16c6",
     "showTitle": false,
     "tableResultSettingsMap": {},
     "title": ""
    }
   },
   "source": [
    "### LangGraph カスタムスキーマエージェントノートブック\n",
    "このノートブックは、Mosaic AI Agent Frameworkと互換性のあるLangGraph AIエージェントの作成を行います。  \n",
    "LangGraph AIエージェントと Mosaic AI の Agent Framework の互換性を確保のために、Mosaic AI Agent Framework が定める「スキーマ要件」に準拠するエージェントの作成が必要です。\n",
    " \n",
    " 詳細は([AWS](https://docs.databricks.com/aws/ja/generative-ai/agent-framework/create-chat-model) | [Azure](https://learn.microsoft.com/ja-jp/azure/databricks/generative-ai/agent-framework/create-chat-model)) を参照してください。\n",
    "\n",
    "### Model-as-code notebook\n",
    "Mosaic AI Agent Framework では、MLflow の**モデルをコードとして記述する**開発ワークフローを使用しており、これには次の 2 つのノートブックが必要です。\n",
    "- エージェントノートブック：エージェントのロジックを定義するノートブック（このノートブック）\n",
    "- ドライバノートブック：エージェントをログに記録、登録、デプロイするノートブック\n",
    "\n",
    "Model-as-code の詳細については、 MLflow の Models as code ガイド(https://mlflow.org/docs/latest/model/models-from-code.html)を参照してください。  \n",
    "\n",
    "**_NOTE:_** このノートブックはLangGraphを使用しますが、Mosaic AI Agent FrameworkはLlamaIndexなどの他のエージェントオーサリングフレームワークと互換性があります。"
   ]
  },
  {
   "cell_type": "markdown",
   "metadata": {
    "application/vnd.databricks.v1+cell": {
     "cellMetadata": {},
     "inputWidgets": {},
     "nuid": "06f7ee0b-fd1d-4c2c-a92c-5912f3481d90",
     "showTitle": false,
     "tableResultSettingsMap": {},
     "title": ""
    }
   },
   "source": [
    "## 環境準備"
   ]
  },
  {
   "cell_type": "code",
   "execution_count": 0,
   "metadata": {
    "application/vnd.databricks.v1+cell": {
     "cellMetadata": {
      "byteLimit": 2048000,
      "rowLimit": 10000
     },
     "inputWidgets": {},
     "nuid": "04220df0-6fdd-4daf-9ca4-982d64c1c5a2",
     "showTitle": false,
     "tableResultSettingsMap": {},
     "title": ""
    }
   },
   "outputs": [],
   "source": [
    "%run ./00_config"
   ]
  },
  {
   "cell_type": "code",
   "execution_count": 0,
   "metadata": {
    "application/vnd.databricks.v1+cell": {
     "cellMetadata": {
      "byteLimit": 2048000,
      "rowLimit": 10000
     },
     "inputWidgets": {},
     "nuid": "a458f3e8-3ca9-4f64-89f3-12861182e9ea",
     "showTitle": false,
     "tableResultSettingsMap": {},
     "title": ""
    }
   },
   "outputs": [],
   "source": [
    "# 本ノートブックで利用するスキーマをセット\n",
    "schema_name = f\"05_vector_search_index_for_{user_name}\"\n",
    "spark.sql(f\"USE {catalog_name}.{schema_name}\")"
   ]
  },
  {
   "cell_type": "markdown",
   "metadata": {
    "application/vnd.databricks.v1+cell": {
     "cellMetadata": {},
     "inputWidgets": {},
     "nuid": "7eec30e9-696f-41c1-9c2f-9e8e72a6d055",
     "showTitle": false,
     "tableResultSettingsMap": {},
     "title": ""
    }
   },
   "source": [
    "必要なライブラリのインストール"
   ]
  },
  {
   "cell_type": "code",
   "execution_count": 0,
   "metadata": {
    "application/vnd.databricks.v1+cell": {
     "cellMetadata": {
      "byteLimit": 2048000,
      "rowLimit": 10000
     },
     "inputWidgets": {},
     "nuid": "cf89a91f-5330-4d6c-853a-61a2ccf70dea",
     "showTitle": false,
     "tableResultSettingsMap": {},
     "title": ""
    }
   },
   "outputs": [],
   "source": [
    "%pip install -U -qqqq mlflow langchain langgraph-checkpoint langchain_core langgraph pydantic databricks-langchain\n",
    "dbutils.library.restartPython()"
   ]
  },
  {
   "cell_type": "markdown",
   "metadata": {
    "application/vnd.databricks.v1+cell": {
     "cellMetadata": {
      "byteLimit": 2048000,
      "rowLimit": 10000
     },
     "inputWidgets": {},
     "nuid": "013051e5-0a10-4388-a6ff-b0e05f2ff9ea",
     "showTitle": false,
     "tableResultSettingsMap": {},
     "title": ""
    }
   },
   "source": [
    "MLflow による自動ロギングを有効化"
   ]
  },
  {
   "cell_type": "code",
   "execution_count": 0,
   "metadata": {
    "application/vnd.databricks.v1+cell": {
     "cellMetadata": {
      "byteLimit": 2048000,
      "rowLimit": 10000
     },
     "inputWidgets": {},
     "nuid": "8b445eef-9653-4df8-a07b-b654ef70a987",
     "showTitle": false,
     "tableResultSettingsMap": {},
     "title": ""
    }
   },
   "outputs": [],
   "source": [
    "import mlflow\n",
    "mlflow.langchain.autolog()"
   ]
  },
  {
   "cell_type": "markdown",
   "metadata": {
    "application/vnd.databricks.v1+cell": {
     "cellMetadata": {},
     "inputWidgets": {},
     "nuid": "21a12d3a-09db-45de-be54-5f242da3995c",
     "showTitle": false,
     "tableResultSettingsMap": {},
     "title": ""
    }
   },
   "source": [
    "### Parse LangGraph output\n",
    "LangGraphの出力メッセージをMosaic AIエージェントフレームワークの推奨出力スキーマに変換するためのヘルパーメソッドを定義します。wrap_outputヘルパーは、カスタム出力を含む追加の`custom_outputs`フィールドとともに、チャット補完と互換性のあるメッセージを返します。"
   ]
  },
  {
   "cell_type": "code",
   "execution_count": 0,
   "metadata": {
    "application/vnd.databricks.v1+cell": {
     "cellMetadata": {
      "byteLimit": 2048000,
      "rowLimit": 10000
     },
     "inputWidgets": {},
     "nuid": "7543f731-2188-4932-81e8-9d37cd1cb8f5",
     "showTitle": false,
     "tableResultSettingsMap": {},
     "title": ""
    }
   },
   "outputs": [],
   "source": [
    "from typing import Iterator, Dict, Any\n",
    "from langchain_core.messages import (\n",
    "    AIMessage,\n",
    "    HumanMessage,\n",
    "    ToolMessage,\n",
    "    MessageLikeRepresentation,\n",
    ")\n",
    "from mlflow.types.llm import ChatCompletionRequest, ChatCompletionResponse, ChatChoice, ChatMessage\n",
    "from random import randint\n",
    "from dataclasses import asdict\n",
    "import logging\n",
    "\n",
    "import json\n",
    "\n",
    "# You can add additional fields to the return object below\n",
    "def create_flexible_chat_completion_response(content: str, id: int = 0) -> Dict:\n",
    "    return asdict(ChatCompletionResponse(\n",
    "        choices=[ChatChoice(message=ChatMessage(role=\"assistant\", content=content))],\n",
    "        custom_outputs={\n",
    "            \"id\": id\n",
    "        },\n",
    "    ))\n",
    "\n",
    "def wrap_output(stream: Iterator[MessageLikeRepresentation]) -> Iterator[Dict]:\n",
    "    \"\"\"\n",
    "    Process and yield formatted outputs from the message stream.\n",
    "    The invoke and stream langchain functions produce different output formats.\n",
    "    This function handles both cases.\n",
    "    \"\"\"\n",
    "    for event in stream:\n",
    "        # the agent was called with invoke()\n",
    "        if \"messages\" in event:\n",
    "            output_content = \"\"\n",
    "            for msg in event[\"messages\"]:\n",
    "                output_content += msg.content\n",
    "            # Note: you can pass additional fields from your LangGraph nodes to the output here\n",
    "            yield create_flexible_chat_completion_response(content=output_content, id=randint(100000000, 10000000000))\n",
    "        # the agent was called with stream()\n",
    "        else:\n",
    "            for node in event:\n",
    "                for key, messages in event[node].items():\n",
    "                    if isinstance(messages, list):\n",
    "                        for msg in messages:\n",
    "                            # Note: you can pass additional fields from your LangGraph nodes to the output here\n",
    "                            yield create_flexible_chat_completion_response(content=msg.content, id=randint(100000000, 10000000000))\n",
    "                    else:\n",
    "                        logging.warning(f\"Unexpected value {messages} for key {key}. Expected a list of `MessageLikeRepresentation`'s\")\n",
    "                        yield create_flexible_chat_completion_response(content=str(messages))"
   ]
  },
  {
   "cell_type": "markdown",
   "metadata": {
    "application/vnd.databricks.v1+cell": {
     "cellMetadata": {},
     "inputWidgets": {},
     "nuid": "e357da0a-1fd2-459b-b51a-e01d499295e3",
     "showTitle": false,
     "tableResultSettingsMap": {},
     "title": ""
    }
   },
   "source": [
    "## Create the agent\n",
    "LangGraphの[`create_react_agent` 関数](https://langchain-ai.github.io/langgraph/how-tos/create-react-agent/#usage) を使用して、シンプルなグラフを作成します。  \n",
    "カスタマイズする場合は、[LangGraph - Quick Start](https://langchain-ai.github.io/langgraph/tutorials/introduction/)の手順に従って、独自のLangGraphエージェントを作成できます。"
   ]
  },
  {
   "cell_type": "markdown",
   "metadata": {
    "application/vnd.databricks.v1+cell": {
     "cellMetadata": {
      "byteLimit": 2048000,
      "rowLimit": 10000
     },
     "inputWidgets": {},
     "nuid": "8fe7ea85-4fb0-42ba-b05f-61f4b6a9d074",
     "showTitle": false,
     "tableResultSettingsMap": {},
     "title": ""
    }
   },
   "source": [
    "### Databricks Vector Srarchを利用したRAGのretrieve\n",
    "\n",
    "05_vector_search_index で作成したVector Search を AI Agentが利用できるように、ツールの定義を行います。  \n",
    "\n",
    "参考：    \n",
    "[DatabricksVectorSearch インスタンスの作成](https://python.langchain.com/docs/integrations/vectorstores/databricks_vector_search/)"
   ]
  },
  {
   "cell_type": "markdown",
   "metadata": {
    "application/vnd.databricks.v1+cell": {
     "cellMetadata": {},
     "inputWidgets": {},
     "nuid": "eb7d5fb1-2ef7-44d5-a529-2d5051e90e20",
     "showTitle": false,
     "tableResultSettingsMap": {},
     "title": ""
    }
   },
   "source": [
    "#### 1. RAGを実行するUnity Catalog Functionの作成\n",
    "DatabricksVectorSearch を Agent利用するために、Unity Catalog 関数を使用して取得ツールを作成します。  \n",
    "[Unity Catalog 関数](https://docs.databricks.com/aws/ja/generative-ai/agent-framework/create-custom-tool)によって、カスタム AI エージェントツールを作成することができます。\n",
    "\n",
    "非構造化データを取得するための AI エージェント ツールを作成する方法としては、[非構造化リトリーバー](https://docs.databricks.com/aws/ja/generative-ai/agent-framework/unstructured-retrieval-tools)を使用する方法もあります。\n"
   ]
  },
  {
   "cell_type": "code",
   "execution_count": 0,
   "metadata": {
    "application/vnd.databricks.v1+cell": {
     "cellMetadata": {
      "byteLimit": 2048000,
      "implicitDf": true,
      "rowLimit": 10000
     },
     "inputWidgets": {},
     "nuid": "e6c4f2b0-9973-410d-9ac1-2376bafe310a",
     "showTitle": false,
     "tableResultSettingsMap": {},
     "title": ""
    }
   },
   "outputs": [],
   "source": [
    "# Unity Catalog Functionにvector_searchを行う関数を作成\n",
    "query = f\"\"\"\n",
    "CREATE OR REPLACE FUNCTION {catalog_name}.{schema_name}.product_docs_vector_search (\n",
    "  -- The agent uses this comment to determine how to generate the query string parameter.\n",
    "  query STRING\n",
    "  COMMENT 'The query string for searching our product documentation.'\n",
    ") RETURNS TABLE\n",
    "-- The agent uses this comment to determine when to call this tool. It describes the types of documents and information contained within the index.\n",
    "COMMENT 'Executes a search on product documentation to retrieve text documents most relevant to the input query.' RETURN\n",
    "SELECT\n",
    "  id as id,\n",
    "  map('url', url, 'content', content) as metadata\n",
    "FROM\n",
    "  vector_search(\n",
    "    -- Specify your Vector Search index name here\n",
    "    index => '{catalog_name}.{schema_name}.product_documentation_vs_index',\n",
    "    query => query,\n",
    "    num_results => 5\n",
    "  )\n",
    "  \"\"\"\n",
    "spark.sql(query)"
   ]
  },
  {
   "cell_type": "code",
   "execution_count": 0,
   "metadata": {
    "application/vnd.databricks.v1+cell": {
     "cellMetadata": {
      "byteLimit": 2048000,
      "implicitDf": true,
      "rowLimit": 10000
     },
     "inputWidgets": {},
     "nuid": "b938cc60-8c4c-458a-a26a-455d9eb1193c",
     "showTitle": false,
     "tableResultSettingsMap": {},
     "title": ""
    }
   },
   "outputs": [],
   "source": [
    "# 作成した関数の結果を確認\n",
    "query = f\"\"\"\n",
    "select * \n",
    "from {catalog_name}.{schema_name}.product_docs_vector_search('バッテリー交換');\n",
    "\"\"\"\n",
    "spark.sql(query).display()"
   ]
  },
  {
   "cell_type": "markdown",
   "metadata": {
    "application/vnd.databricks.v1+cell": {
     "cellMetadata": {},
     "inputWidgets": {},
     "nuid": "2cd7a8aa-706f-47af-b144-712b9b2d78da",
     "showTitle": false,
     "tableResultSettingsMap": {},
     "title": ""
    }
   },
   "source": [
    "### SQL AI Functionの作成\n",
    "非構造化データを検索するためのツールと同様に、構造化データを検索するツールを作成します。  \n",
    "先ほどと同様、Agentがツールを利用するために、[Unity Catalog 関数](https://docs.databricks.com/aws/ja/generative-ai/agent-framework/create-custom-tool)を使用します。\n",
    "\n",
    "ここでは、顧客からの問い合わせを管理する case テーブルを参照し、処理中の件数が多いPC製品 TOP3 を抽出する SQL関数を定義し、ツールとしてAgentが利用可能にします。\n",
    "\n",
    "なお、AI エージェント ツールAIエージェントツールの構築については、[こちらのドキュメント](https://docs.databricks.com/aws/ja/generative-ai/agent-framework/agent-tool)も参考にしてください。"
   ]
  },
  {
   "cell_type": "markdown",
   "metadata": {
    "application/vnd.databricks.v1+cell": {
     "cellMetadata": {
      "byteLimit": 2048000,
      "rowLimit": 10000
     },
     "inputWidgets": {},
     "nuid": "73f85a83-66b2-4d1e-bfcc-7ec2cf43fbc9",
     "showTitle": false,
     "tableResultSettingsMap": {},
     "title": ""
    }
   },
   "source": [
    "#### 2. UDFを実行するUnity Catalog Functionの作成"
   ]
  },
  {
   "cell_type": "code",
   "execution_count": 0,
   "metadata": {
    "application/vnd.databricks.v1+cell": {
     "cellMetadata": {
      "byteLimit": 2048000,
      "rowLimit": 10000
     },
     "inputWidgets": {},
     "nuid": "4b168e9a-af02-4e26-afa6-d72ca3df0cc4",
     "showTitle": false,
     "tableResultSettingsMap": {},
     "title": ""
    }
   },
   "outputs": [],
   "source": [
    "# 利用するスキーマの変更(Genie利用時にセットしたデータを利用)\n",
    "schema3_name = f\"03_data_analysis_by_gen_ai_for_{user_name}\"\n",
    "# spark.sql(f\"USE {catalog_name}.{schema3_name}\")"
   ]
  },
  {
   "cell_type": "code",
   "execution_count": 0,
   "metadata": {
    "application/vnd.databricks.v1+cell": {
     "cellMetadata": {
      "byteLimit": 2048000,
      "rowLimit": 10000
     },
     "inputWidgets": {},
     "nuid": "30920fe3-a76d-452d-b262-f76eb34eb5f0",
     "showTitle": false,
     "tableResultSettingsMap": {},
     "title": ""
    }
   },
   "outputs": [],
   "source": [
    "# 処理中の問い合わせの多い製品top3と件数を表示するSQL関数を作成\n",
    "\n",
    "query = f\"\"\"\n",
    "CREATE OR REPLACE FUNCTION\n",
    "{catalog_name}.{schema3_name}.product_with_many_inquiries()\n",
    "returns table(Name STRING, in_progress_count INT)\n",
    "LANGUAGE SQL\n",
    "-- Make sure to add a comment so that your AI understands what it does\n",
    "COMMENT 'This function returns the top 3 product names with long term cases in 処理中.'\n",
    "return\n",
    "(SELECT\n",
    "  `product2`.`Name`,\n",
    "  COUNT(`case`.`Id`) AS `in_progress_count`\n",
    "FROM\n",
    "  {catalog_name}.{schema3_name}.`case`\n",
    "    INNER JOIN\n",
    "      {catalog_name}.{schema3_name}.`product2`\n",
    "      ON `case`.`Product2Id__c` = `product2`.`Id`\n",
    "WHERE\n",
    "  `case`.`Status` = '処理中'\n",
    "  AND `product2`.`Name` ILIKE '%PC%'\n",
    "GROUP BY\n",
    "  `product2`.`Name`\n",
    "ORDER BY\n",
    "  `in_progress_count` DESC\n",
    "LIMIT 3)\n",
    "\"\"\"\n",
    "\n",
    "spark.sql(query)"
   ]
  },
  {
   "cell_type": "markdown",
   "metadata": {
    "application/vnd.databricks.v1+cell": {
     "cellMetadata": {},
     "inputWidgets": {},
     "nuid": "6e2bf330-db45-49cf-b689-f9b4155dfeaf",
     "showTitle": false,
     "tableResultSettingsMap": {},
     "title": ""
    }
   },
   "source": [
    "### AI Functionの作成\n",
    "作成した2つの Unity Catalog Function を ツールとして利用できるようにします。"
   ]
  },
  {
   "cell_type": "code",
   "execution_count": 0,
   "metadata": {
    "application/vnd.databricks.v1+cell": {
     "cellMetadata": {
      "byteLimit": 2048000,
      "rowLimit": 10000
     },
     "inputWidgets": {},
     "nuid": "0d8ea7da-d5fe-4fd6-9171-0390652713e6",
     "showTitle": true,
     "tableResultSettingsMap": {},
     "title": "AI Functionの作成"
    }
   },
   "outputs": [],
   "source": [
    "func_name = [\n",
    "    f\"{catalog_name}.{schema3_name}.product_with_many_inquiries\",\n",
    "    f\"{catalog_name}.{schema_name}.product_docs_vector_search\"\n",
    "             ]"
   ]
  },
  {
   "cell_type": "code",
   "execution_count": 0,
   "metadata": {
    "application/vnd.databricks.v1+cell": {
     "cellMetadata": {
      "byteLimit": 2048000,
      "rowLimit": 10000
     },
     "inputWidgets": {},
     "nuid": "77d923d6-82ce-4d48-a342-589582056579",
     "showTitle": false,
     "tableResultSettingsMap": {},
     "title": ""
    }
   },
   "outputs": [],
   "source": [
    "from unitycatalog.ai.langchain.toolkit import UCFunctionToolkit\n",
    "from unitycatalog.ai.core.databricks import DatabricksFunctionClient"
   ]
  },
  {
   "cell_type": "code",
   "execution_count": 0,
   "metadata": {
    "application/vnd.databricks.v1+cell": {
     "cellMetadata": {
      "byteLimit": 2048000,
      "rowLimit": 10000
     },
     "inputWidgets": {},
     "nuid": "5fc770d1-dfe8-4b92-a497-509d61cc8570",
     "showTitle": false,
     "tableResultSettingsMap": {},
     "title": ""
    }
   },
   "outputs": [],
   "source": [
    "# Databricks Function クライアントの作成\n",
    "client = DatabricksFunctionClient()\n",
    "\n",
    "# UCFunctionToolkit を利用して、Unity Catalog 関数をツールとして登録\n",
    "toolkit = UCFunctionToolkit(\n",
    "    function_names=func_name,\n",
    "    client=client\n",
    ")\n",
    "\n",
    "tools = toolkit.tools\n",
    "\n"
   ]
  },
  {
   "cell_type": "code",
   "execution_count": 0,
   "metadata": {
    "application/vnd.databricks.v1+cell": {
     "cellMetadata": {
      "byteLimit": 2048000,
      "rowLimit": 10000
     },
     "inputWidgets": {},
     "nuid": "4fd12be3-1d37-4e3c-a8db-be6a58a340df",
     "showTitle": false,
     "tableResultSettingsMap": {},
     "title": ""
    }
   },
   "outputs": [],
   "source": [
    "# tools = [tool,vs_tool]\n",
    "tools"
   ]
  },
  {
   "cell_type": "markdown",
   "metadata": {
    "application/vnd.databricks.v1+cell": {
     "cellMetadata": {
      "byteLimit": 2048000,
      "rowLimit": 10000
     },
     "inputWidgets": {},
     "nuid": "339ea442-46b1-4abc-afe6-484f27c6fddc",
     "showTitle": false,
     "tableResultSettingsMap": {},
     "title": ""
    }
   },
   "source": [
    "### Agent作成"
   ]
  },
  {
   "cell_type": "markdown",
   "metadata": {
    "application/vnd.databricks.v1+cell": {
     "cellMetadata": {},
     "inputWidgets": {},
     "nuid": "5045acd4-946c-4655-92d5-f65b88f19952",
     "showTitle": false,
     "tableResultSettingsMap": {},
     "title": ""
    }
   },
   "source": [
    "Agentの作成を行います。  \n",
    "LangGraphを使った AI Agentの作成の詳細は[LangGraohの公式ドキュメント](https://langchain-ai.github.io/langgraph/tutorials/introduction/)で確認可能です。"
   ]
  },
  {
   "cell_type": "code",
   "execution_count": 0,
   "metadata": {
    "application/vnd.databricks.v1+cell": {
     "cellMetadata": {
      "byteLimit": 2048000,
      "rowLimit": 10000
     },
     "inputWidgets": {},
     "nuid": "b603f0fa-006b-42a5-b3b2-0155e84d6976",
     "showTitle": false,
     "tableResultSettingsMap": {},
     "title": ""
    }
   },
   "outputs": [],
   "source": [
    "from typing import Annotated\n",
    "\n",
    "# Databricks向けのLLMチャットインターフェースをインポート\n",
    "from databricks_langchain import ChatDatabricks\n",
    "\n",
    "from langchain_core.messages import BaseMessage\n",
    "from typing_extensions import TypedDict\n",
    "\n",
    "from langgraph.graph import StateGraph\n",
    "from langgraph.graph.message import add_messages\n",
    "from langgraph.prebuilt import ToolNode, tools_condition\n",
    "\n",
    "\n",
    "# 状態を表すTypedDictを定義。このStateは、会話の状態を保持します。\n",
    "class State(TypedDict):\n",
    "    messages: Annotated[list, add_messages]\n",
    "\n",
    "graph_builder = StateGraph(State)\n",
    "\n",
    "# DatabricksのLLMチャットエンジンをエンドポイント(AOAIのgpt-4o)を指定して初期化\n",
    "llm = ChatDatabricks(endpoint=\"openhack-gpt-4o\")\n",
    "# 定義済みのツールと連携させたLLMインスタンスを作成\n",
    "llm_with_tools = llm.bind_tools(tools)\n",
    "\n",
    "# チャットボットの処理を定義する関数\n",
    "def chatbot(state: State):\n",
    "    # 現在の状態のメッセージをLLMに渡して応答を生成し、メッセージリストとして返す\n",
    "    return {\"messages\": [llm_with_tools.invoke(state[\"messages\"])]}"
   ]
  },
  {
   "cell_type": "code",
   "execution_count": 0,
   "metadata": {
    "application/vnd.databricks.v1+cell": {
     "cellMetadata": {},
     "inputWidgets": {},
     "nuid": "02365d4f-f342-418e-af61-2bfdbb6e5a82",
     "showTitle": false,
     "tableResultSettingsMap": {},
     "title": ""
    }
   },
   "outputs": [],
   "source": [
    "### グラフ定義を使ったシステム全体のワークフローを構築 ###\n",
    "# ノードの追加\n",
    "graph_builder.add_node(\"chatbot\", chatbot)\n",
    "tool_node = ToolNode(tools=tools)\n",
    "graph_builder.add_node(\"tools\", tool_node)\n",
    "# エッジ(遷移)の設定\n",
    "graph_builder.add_conditional_edges(\n",
    "    \"chatbot\",\n",
    "    tools_condition,\n",
    ")\n",
    "# ツール処理後に常にチャットボットに戻る遷移を設定\n",
    "graph_builder.add_edge(\"tools\", \"chatbot\")\n",
    "# エントリーポイントの指定(システムの開始はチャットボット)\n",
    "graph_builder.set_entry_point(\"chatbot\")\n",
    "graph = graph_builder.compile()"
   ]
  },
  {
   "cell_type": "code",
   "execution_count": 0,
   "metadata": {
    "application/vnd.databricks.v1+cell": {
     "cellMetadata": {
      "byteLimit": 2048000,
      "rowLimit": 10000
     },
     "inputWidgets": {},
     "nuid": "774a81d1-250c-44f0-b164-6f89b29fab64",
     "showTitle": true,
     "tableResultSettingsMap": {},
     "title": "グラフを見てみる(デプロイ時は消すこと)"
    }
   },
   "outputs": [],
   "source": [
    "from IPython.display import Image, display\n",
    "\n",
    "try:\n",
    "    display(Image(graph.get_graph().draw_mermaid_png()))\n",
    "except Exception:\n",
    "    # This requires some extra dependencies and is optional\n",
    "    pass"
   ]
  },
  {
   "cell_type": "code",
   "execution_count": 0,
   "metadata": {
    "application/vnd.databricks.v1+cell": {
     "cellMetadata": {
      "byteLimit": 2048000,
      "rowLimit": 10000
     },
     "inputWidgets": {},
     "nuid": "cd82e527-deaf-4214-a4ba-f06290e1619c",
     "showTitle": false,
     "tableResultSettingsMap": {},
     "title": ""
    }
   },
   "outputs": [],
   "source": [
    "# Agentがuser_inputを受け取り、リアルタイムで応答する処理\n",
    "def stream_graph_updates(user_input: str):\n",
    "    for event in graph.stream({\"messages\": [{\"role\": \"user\", \"content\": user_input}]}):\n",
    "        for value in event.values():\n",
    "            print(\"Assistant:\", value[\"messages\"][-1].content)"
   ]
  },
  {
   "cell_type": "code",
   "execution_count": 0,
   "metadata": {
    "application/vnd.databricks.v1+cell": {
     "cellMetadata": {
      "byteLimit": 2048000,
      "rowLimit": 10000
     },
     "inputWidgets": {},
     "nuid": "f32cb2db-e8ae-45f6-882a-7ba15ae53cb5",
     "showTitle": true,
     "tableResultSettingsMap": {},
     "title": "ノートブック上でのテスト"
    }
   },
   "outputs": [],
   "source": [
    "# # 以下のコメントアウト部分を有効化して実行すると、ユーザ入力を受け付ける形でテストができます。\n",
    "\n",
    "# while True:\n",
    "#     try:\n",
    "#         user_input = input(\"User: \")\n",
    "#         if user_input.lower() in [\"quit\", \"exit\", \"q\"]:\n",
    "#             print(\"Goodbye!\")\n",
    "#             break\n",
    "\n",
    "#         stream_graph_updates(user_input)\n",
    "#     except:\n",
    "#         # fallback if input() is not available\n",
    "#         user_input = \"What do you know about LangGraph?\"\n",
    "#         print(\"User: \" + user_input)\n",
    "#         stream_graph_updates(user_input)\n",
    "#         break\n",
    "\n",
    "# # 質問例：問い合わせの多い製品の修理手順を教えてください\n",
    "# # \"quit\", \"exit\", \"q\" で終了させてください"
   ]
  },
  {
   "cell_type": "markdown",
   "metadata": {
    "application/vnd.databricks.v1+cell": {
     "cellMetadata": {
      "byteLimit": 2048000,
      "rowLimit": 10000
     },
     "inputWidgets": {},
     "nuid": "127b98b1-d0d3-4bc6-8e4a-602372b71b60",
     "showTitle": false,
     "tableResultSettingsMap": {},
     "title": ""
    }
   },
   "source": [
    "### Agent の生成と 出力ラップ"
   ]
  },
  {
   "cell_type": "code",
   "execution_count": 0,
   "metadata": {
    "application/vnd.databricks.v1+cell": {
     "cellMetadata": {
      "byteLimit": 2048000,
      "rowLimit": 10000
     },
     "inputWidgets": {},
     "nuid": "5d31eb88-232d-4394-a07b-50395c513761",
     "showTitle": false,
     "tableResultSettingsMap": {},
     "title": ""
    }
   },
   "outputs": [],
   "source": [
    "\n",
    "from langchain_core.runnables import RunnableGenerator\n",
    "from langgraph.prebuilt import create_react_agent\n",
    "\n",
    "# create_react_agent 関数を使い、ツールと連携したLLMエージェントを生成\n",
    "agent_with_raw_output = create_react_agent(llm_with_tools, tools)\n",
    "# エージェントの生出力をwrap_output関数で整形\n",
    "agent = agent_with_raw_output| RunnableGenerator(wrap_output)"
   ]
  },
  {
   "cell_type": "markdown",
   "metadata": {
    "application/vnd.databricks.v1+cell": {
     "cellMetadata": {
      "byteLimit": 2048000,
      "rowLimit": 10000
     },
     "inputWidgets": {},
     "nuid": "fbab1a0f-8f56-42dd-9628-b2b36c43f5e2",
     "showTitle": false,
     "tableResultSettingsMap": {},
     "title": ""
    }
   },
   "source": [
    "## エージェントのテスト\n",
    "エージェントとやりとりして、その出力をテストします。  \n",
    "このノートブックで `mlflow.langchain.autolog()` を呼び出しているので、エージェントが実行する各ステップのトレースを表示できます。  \n",
    "プレースホルダー入力を、「問い合わせの多い製品の修理手順を教えてください」など今回の例に合わせて実行してください。"
   ]
  },
  {
   "cell_type": "code",
   "execution_count": 0,
   "metadata": {
    "application/vnd.databricks.v1+cell": {
     "cellMetadata": {
      "byteLimit": 2048000,
      "rowLimit": 10000
     },
     "inputWidgets": {},
     "nuid": "5f803b4c-9269-4fde-a20c-248c5d6f1b08",
     "showTitle": false,
     "tableResultSettingsMap": {},
     "title": ""
    }
   },
   "outputs": [],
   "source": [
    "# TODO: replace this placeholder input example with an appropriate domain-specific example for your agent\n",
    "input_messages = [ChatMessage(role=\"user\", content=\"問い合わせの多い製品の修理手順を教えてください\")]\n",
    "input_example = asdict(ChatCompletionRequest(messages=input_messages))\n",
    "\n",
    "for event in agent.stream(input_example):\n",
    "    print(event, \"---\" * 20 + \"\\n\")\n",
    "# for event in agent(input_example):\n",
    "#     print(event, \"---\" * 20 + \"\\n\")"
   ]
  },
  {
   "cell_type": "code",
   "execution_count": 0,
   "metadata": {
    "application/vnd.databricks.v1+cell": {
     "cellMetadata": {
      "byteLimit": 2048000,
      "rowLimit": 10000
     },
     "inputWidgets": {},
     "nuid": "ffb18c51-2a98-420c-a73a-94e7fc2a0313",
     "showTitle": false,
     "tableResultSettingsMap": {},
     "title": ""
    }
   },
   "outputs": [],
   "source": [
    "mlflow.models.set_model(agent)"
   ]
  },
  {
   "cell_type": "markdown",
   "metadata": {
    "application/vnd.databricks.v1+cell": {
     "cellMetadata": {},
     "inputWidgets": {},
     "nuid": "ffc3c90b-b93d-4b79-83a4-0429df5eabe8",
     "showTitle": false,
     "tableResultSettingsMap": {},
     "title": ""
    }
   },
   "source": [
    "## Next steps\n",
    "このエージェントのログ、登録、デプロイします。07_ai-agent_driver のドライバーノートブックを参照してください。  \n",
    " ドライバーノートブックの詳細は[こちら](https://learn.microsoft.com/ja-jp/azure/databricks/generative-ai/agent-framework/author-agent#langchain-custom-schemas)もご確認ください。"
   ]
  }
 ],
 "metadata": {
  "application/vnd.databricks.v1+notebook": {
   "computePreferences": null,
   "dashboards": [],
   "environmentMetadata": null,
   "language": "python",
   "notebookMetadata": {
    "mostRecentlyExecutedCommandWithImplicitDF": {
     "commandId": -1,
     "dataframes": [
      "_sqldf"
     ]
    },
    "pythonIndentUnit": 4
   },
   "notebookName": "06_ai-agent_create",
   "widgets": {}
  },
  "language_info": {
   "name": "python"
  }
 },
 "nbformat": 4,
 "nbformat_minor": 0
}
